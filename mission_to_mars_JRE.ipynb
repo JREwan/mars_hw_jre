{
 "cells": [
  {
   "cell_type": "markdown",
   "metadata": {
    "slideshow": {
     "slide_type": "slide"
    }
   },
   "source": [
    "# Step 1 scraping"
   ]
  },
  {
   "cell_type": "code",
   "execution_count": 1,
   "metadata": {
    "collapsed": true
   },
   "outputs": [],
   "source": [
    "# Dependencies\n",
    "from bs4 import BeautifulSoup\n",
    "import requests\n",
    "from selenium import webdriver\n",
    "import time\n",
    "import pandas as pd"
   ]
  },
  {
   "cell_type": "code",
   "execution_count": 2,
   "metadata": {
    "collapsed": true
   },
   "outputs": [],
   "source": [
    "# Scrape NASA Mars News\n",
    "# URL of page to be scraped\n",
    "url = 'https://mars.nasa.gov/news/'"
   ]
  },
  {
   "cell_type": "code",
   "execution_count": 3,
   "metadata": {
    "collapsed": true
   },
   "outputs": [],
   "source": [
    "browser = webdriver.Chrome('chromedriver.exe')\n",
    "# get the page\n",
    "browser.get(url)\n",
    "#Wait a few seconds\n",
    "time.sleep(3)\n",
    "\n",
    "html = browser.page_source\n",
    "soup = BeautifulSoup(html, \"html.parser\")\n",
    "# Examine the results, then determine element that contains sought info\n",
    "#print(soup.prettify())"
   ]
  },
  {
   "cell_type": "code",
   "execution_count": 4,
   "metadata": {},
   "outputs": [
    {
     "name": "stdout",
     "output_type": "stream",
     "text": [
      "{'title': 'NASA’s First Mission to Study the Interior of Mars Awaits May 5 Launch', 'mn_para': 'All systems are go for NASA’s next launch to the Red Planet. '}\n"
     ]
    }
   ],
   "source": [
    "mars_news_dict = {}\n",
    "# get the first result\n",
    "headline = soup.find('div', class_=\"content_title\")\n",
    "#print(headline)\n",
    "first_para = soup.find('div', class_=\"article_teaser_body\")\n",
    "#print(first_para)\n",
    "# grab the title & print it!\n",
    "mars_news_dict[\"title\"] = soup.find('div', class_=\"content_title\").text\n",
    "#print(title)\n",
    "mars_news_dict[\"mn_para\"] = soup.find('div', class_=\"article_teaser_body\").text\n",
    "print(mars_news_dict)\n",
    "#print(first_para_txt)\n"
   ]
  },
  {
   "cell_type": "code",
   "execution_count": 5,
   "metadata": {
    "collapsed": true
   },
   "outputs": [],
   "source": [
    "# Scrape JPL Mars Space Images - Featured Image\n",
    "# URL of page to be scraped\n",
    "url = 'https://www.jpl.nasa.gov/spaceimages/?search=&category=Mars'"
   ]
  },
  {
   "cell_type": "code",
   "execution_count": 6,
   "metadata": {
    "collapsed": true
   },
   "outputs": [],
   "source": [
    "browser = webdriver.Chrome('chromedriver.exe')\n",
    "#listings = {}\n",
    "# get the page\n",
    "browser.get(url)\n",
    "#Wait a few seconds\n",
    "time.sleep(3)\n",
    "\n",
    "html = browser.page_source\n",
    "soup = BeautifulSoup(html, \"html.parser\")\n",
    "# Examine the results, then determine element that contains sought info\n",
    "#print(soup.prettify())"
   ]
  },
  {
   "cell_type": "code",
   "execution_count": 7,
   "metadata": {},
   "outputs": [
    {
     "name": "stdout",
     "output_type": "stream",
     "text": [
      "JPL Mars Feature image: https://www.jpl.nasa.gov/spaceimages/images/mediumsize/PIA17661_ip.jpg\n"
     ]
    }
   ],
   "source": [
    "# get the first result\n",
    "feature_img = soup.find('a', class_=\"button fancybox\")\n",
    "#print(feature_img)\n",
    "#feature_img IS NOT A STRING!\n",
    "#turn it into a string and split it on the item that hold the link value\n",
    "splitsville = str(feature_img).split(\"data-fancybox-href=\")\n",
    "#print(splitsville[0])\n",
    "#print(splitsville[1])\n",
    "# grab the first part of the splitsville[1] (i.e. the 2nd part of the link)\n",
    "url_part2 = splitsville[1].split(\" \")\n",
    "# trim off the quotes\n",
    "part2 = url_part2[0].replace('\"','')\n",
    "#print(part2)\n",
    "feature_img_url = \"https://www.jpl.nasa.gov\" + part2\n",
    "print('JPL Mars Feature image: ' + feature_img_url)\n"
   ]
  },
  {
   "cell_type": "code",
   "execution_count": 10,
   "metadata": {
    "collapsed": true
   },
   "outputs": [],
   "source": [
    "# go to twitter\n",
    "# access the mars weather report\n",
    "# scrape the first (most recent) weather report\n",
    "# twitter mars weather\n",
    "# url of page to be scraped\n",
    "url = \"http://twitter.com/marswxreport?lang=en\""
   ]
  },
  {
   "cell_type": "code",
   "execution_count": 11,
   "metadata": {
    "collapsed": true
   },
   "outputs": [],
   "source": [
    "browser = webdriver.Chrome('chromedriver.exe')\n",
    "#listings = {}\n",
    "# get the page\n",
    "browser.get(url)\n",
    "#Wait a few seconds (sign in jrewan@yahoo.com)\n",
    "time.sleep(3)\n",
    "\n",
    "html = browser.page_source\n",
    "soup = BeautifulSoup(html, \"html.parser\")\n",
    "# Examine the results, then determine element that contains sought info\n",
    "#print(soup.prettify())"
   ]
  },
  {
   "cell_type": "code",
   "execution_count": 12,
   "metadata": {
    "scrolled": true
   },
   "outputs": [
    {
     "name": "stdout",
     "output_type": "stream",
     "text": [
      "mars_weather = Sol 2039 (May 02, 2018), Sunny, high 0C/32F, low -74C/-101F, pressure at 7.28 hPa, daylight 05:23-17:20\n"
     ]
    }
   ],
   "source": [
    "# get the first result\n",
    "weathertweet = soup.find('div', class_=\"js-tweet-test-container\")\n",
    "#print the tweet\n",
    "first_para = soup.find('p', class_=\"TweetTextSize TweetTextSize--normal js-tweet-text tweet-text\")\n",
    "# print(first_para)\n",
    "# grab the weather & print it!\n",
    "weathertext = soup.find('p', class_=\"TweetTextSize TweetTextSize--normal js-tweet-text tweet-text\").text\n",
    "print(\"mars_weather = \" + weathertext)"
   ]
  },
  {
   "cell_type": "code",
   "execution_count": 27,
   "metadata": {
    "collapsed": true
   },
   "outputs": [],
   "source": [
    "# Mars facts\n",
    "# url of page to be scraped\n",
    "url = \"http://space-facts.com/mars/\""
   ]
  },
  {
   "cell_type": "code",
   "execution_count": 29,
   "metadata": {},
   "outputs": [
    {
     "name": "stdout",
     "output_type": "stream",
     "text": [
      "                      0                              1\n",
      "0  Equatorial Diameter:                       6,792 km\n",
      "1       Polar Diameter:                       6,752 km\n",
      "2                 Mass:  6.42 x 10^23 kg (10.7% Earth)\n",
      "3                Moons:            2 (Phobos & Deimos)\n",
      "4       Orbit Distance:       227,943,824 km (1.52 AU)\n",
      "5         Orbit Period:           687 days (1.9 years)\n",
      "6  Surface Temperature:                  -153 to 20 °C\n",
      "7         First Record:              2nd millennium BC\n",
      "8          Recorded By:           Egyptian astronomers\n"
     ]
    },
    {
     "data": {
      "text/html": [
       "<div>\n",
       "<style>\n",
       "    .dataframe thead tr:only-child th {\n",
       "        text-align: right;\n",
       "    }\n",
       "\n",
       "    .dataframe thead th {\n",
       "        text-align: left;\n",
       "    }\n",
       "\n",
       "    .dataframe tbody tr th {\n",
       "        vertical-align: top;\n",
       "    }\n",
       "</style>\n",
       "<table border=\"1\" class=\"dataframe\">\n",
       "  <thead>\n",
       "    <tr style=\"text-align: right;\">\n",
       "      <th></th>\n",
       "      <th>Value</th>\n",
       "    </tr>\n",
       "    <tr>\n",
       "      <th>Description</th>\n",
       "      <th></th>\n",
       "    </tr>\n",
       "  </thead>\n",
       "  <tbody>\n",
       "    <tr>\n",
       "      <th>Equatorial Diameter:</th>\n",
       "      <td>6,792 km</td>\n",
       "    </tr>\n",
       "    <tr>\n",
       "      <th>Polar Diameter:</th>\n",
       "      <td>6,752 km</td>\n",
       "    </tr>\n",
       "    <tr>\n",
       "      <th>Mass:</th>\n",
       "      <td>6.42 x 10^23 kg (10.7% Earth)</td>\n",
       "    </tr>\n",
       "    <tr>\n",
       "      <th>Moons:</th>\n",
       "      <td>2 (Phobos &amp; Deimos)</td>\n",
       "    </tr>\n",
       "    <tr>\n",
       "      <th>Orbit Distance:</th>\n",
       "      <td>227,943,824 km (1.52 AU)</td>\n",
       "    </tr>\n",
       "    <tr>\n",
       "      <th>Orbit Period:</th>\n",
       "      <td>687 days (1.9 years)</td>\n",
       "    </tr>\n",
       "    <tr>\n",
       "      <th>Surface Temperature:</th>\n",
       "      <td>-153 to 20 °C</td>\n",
       "    </tr>\n",
       "    <tr>\n",
       "      <th>First Record:</th>\n",
       "      <td>2nd millennium BC</td>\n",
       "    </tr>\n",
       "    <tr>\n",
       "      <th>Recorded By:</th>\n",
       "      <td>Egyptian astronomers</td>\n",
       "    </tr>\n",
       "  </tbody>\n",
       "</table>\n",
       "</div>"
      ],
      "text/plain": [
       "                                              Value\n",
       "Description                                        \n",
       "Equatorial Diameter:                       6,792 km\n",
       "Polar Diameter:                            6,752 km\n",
       "Mass:                 6.42 x 10^23 kg (10.7% Earth)\n",
       "Moons:                          2 (Phobos & Deimos)\n",
       "Orbit Distance:            227,943,824 km (1.52 AU)\n",
       "Orbit Period:                  687 days (1.9 years)\n",
       "Surface Temperature:                  -153 to 20 °C\n",
       "First Record:                     2nd millennium BC\n",
       "Recorded By:                   Egyptian astronomers"
      ]
     },
     "execution_count": 29,
     "metadata": {},
     "output_type": "execute_result"
    }
   ],
   "source": [
    "# Panda Time!\n",
    "mars_facts_list = pd.read_html(url)\n",
    "print(mars_facts_list[0])\n",
    "mars_facts_df = mars_facts_list[0]\n",
    "mars_facts_df.columns = ['Description', 'Value']\n",
    "mars_facts_df.set_index('Description', inplace=True)\n",
    "mars_facts_df.head(9)"
   ]
  },
  {
   "cell_type": "code",
   "execution_count": 22,
   "metadata": {
    "collapsed": true,
    "scrolled": true
   },
   "outputs": [],
   "source": [
    "mars_facts_df.head()\n",
    "# for later export to html\n",
    "mars_facts_html = mars_facts_df.to_html()\n",
    "#print(mars_facts_html)\n",
    "#write the html to a file\n",
    "Html_file= open(\"mars_facts.html\",\"w\")\n",
    "Html_file.write(mars_facts_html)\n",
    "Html_file.close()"
   ]
  },
  {
   "cell_type": "code",
   "execution_count": 16,
   "metadata": {
    "collapsed": true
   },
   "outputs": [],
   "source": [
    "#Mars hemispheres\n",
    "# url of page to be scraped\n",
    "url = \"https://astrogeology.usgs.gov/search/results?q=hemisphere+enhanced&k1=target&v1=Mars\"\n",
    "base_url = \"https://astrogeology.usgs.gov\"\n",
    "hemisphere_image_urls = []"
   ]
  },
  {
   "cell_type": "code",
   "execution_count": 17,
   "metadata": {
    "collapsed": true
   },
   "outputs": [],
   "source": [
    "browser = webdriver.Chrome('chromedriver.exe')\n",
    "#listings = {}\n",
    "# get the page\n",
    "browser.get(url)\n",
    "#Wait a few seconds\n",
    "time.sleep(5)\n",
    "\n",
    "html = browser.page_source\n",
    "soup = BeautifulSoup(html, \"html.parser\")\n",
    "# Examine the results, then determine element that contains sought info\n",
    "#print(soup.prettify())"
   ]
  },
  {
   "cell_type": "code",
   "execution_count": 18,
   "metadata": {
    "collapsed": true
   },
   "outputs": [],
   "source": [
    "# lets get the pages for the hemispheres\n",
    "url_cerberus = \"https://astrogeology.usgs.gov/search/map/Mars/Viking/cerberus_enhanced\"\n",
    "url_schiaparelli = 'https://astrogeology.usgs.gov/search/map/Mars/Viking/schiaparelli_enhanced'\n",
    "url_syrtis = 'https://astrogeology.usgs.gov/search/map/Mars/Viking/syrtis_major_enhanced'\n",
    "url_valles = 'https://astrogeology.usgs.gov/search/map/Mars/Viking/valles_marineris_enhanced'"
   ]
  },
  {
   "cell_type": "code",
   "execution_count": 19,
   "metadata": {
    "collapsed": true
   },
   "outputs": [],
   "source": [
    "# Valles Marineris Hemisphere\n",
    "browser = webdriver.Chrome('chromedriver.exe')\n",
    "# get the page\n",
    "browser.get(url_valles)\n",
    "#Wait a few seconds\n",
    "time.sleep(5)\n",
    "\n",
    "html = browser.page_source\n",
    "soup = BeautifulSoup(html, \"html.parser\")"
   ]
  },
  {
   "cell_type": "code",
   "execution_count": 21,
   "metadata": {},
   "outputs": [
    {
     "name": "stdout",
     "output_type": "stream",
     "text": [
      "\"/cache/images/7cf2da4bf549ed01c17f206327be4db7_valles_marineris_enhanced.tif_full.jpg\"/>\n",
      "\"/cache/images/7cf2da4bf549ed01c17f206327be4db7_valles_marineris_enhanced.tif_full.jpg\"\n",
      "/cache/images/7cf2da4bf549ed01c17f206327be4db7_valles_marineris_enhanced.tif_full.jpg\n",
      "https://astrogeology.usgs.gov/cache/images/7cf2da4bf549ed01c17f206327be4db7_valles_marineris_enhanced.tif_full.jpg\n"
     ]
    }
   ],
   "source": [
    "# Valles Marineris Hemisphere 2 - get the big image\n",
    "valles_speclink = soup.find('img', class_=\"wide-image\")\n",
    "#IT IS NOT A STRING!\n",
    "#turn it into a string and split it on the item that hold the link value\n",
    "splitsville = str(valles_speclink).split(\"src=\")\n",
    "print(splitsville[1])\n",
    "url_part2 = splitsville[1].split(\"/>\")\n",
    "print(url_part2[0])\n",
    "# trim off the quotes\n",
    "part2 = url_part2[0].replace('\"','')\n",
    "print(part2)\n",
    "valles_full_img = base_url + part2\n",
    "print(valles_full_img)\n",
    "valles_title = \"Valles Marineris Hemisphere\""
   ]
  },
  {
   "cell_type": "code",
   "execution_count": 80,
   "metadata": {},
   "outputs": [
    {
     "name": "stdout",
     "output_type": "stream",
     "text": [
      "{'title': 'Valles Marineris Hemisphere', 'img_url': 'https://astrogeology.usgs.gov/cache/images/7cf2da4bf549ed01c17f206327be4db7_valles_marineris_enhanced.tif_full.jpg'}\n"
     ]
    }
   ],
   "source": [
    "# Valles Marineris Hemisphere 3 - dictionary\n",
    "valles_dict = {}\n",
    "valles_dict[\"title\"] = valles_title\n",
    "valles_dict[\"img_url\"] = valles_full_img\n",
    "print(valles_dict)\n",
    "hemisphere_image_urls.append(dict(valles_dict))\n"
   ]
  },
  {
   "cell_type": "code",
   "execution_count": 81,
   "metadata": {
    "collapsed": true
   },
   "outputs": [],
   "source": [
    "# Cerberus 1\n",
    "browser = webdriver.Chrome('chromedriver.exe')\n",
    "# get the page\n",
    "browser.get(url_cerberus)\n",
    "#Wait a few seconds\n",
    "time.sleep(5)\n",
    "\n",
    "html = browser.page_source\n",
    "soup = BeautifulSoup(html, \"html.parser\")\n",
    "# Examine the results, then determine element that contains sought info\n",
    "#print(soup.prettify())"
   ]
  },
  {
   "cell_type": "code",
   "execution_count": 82,
   "metadata": {},
   "outputs": [
    {
     "name": "stdout",
     "output_type": "stream",
     "text": [
      "https://astrogeology.usgs.gov/cache/images/cfa62af2557222a02478f1fcd781d445_cerberus_enhanced.tif_full.jpg\n"
     ]
    }
   ],
   "source": [
    "# Cerberus 2 - get the big image\n",
    "cerberus_speclink = soup.find('img', class_=\"wide-image\")\n",
    "#print(cerberus_speclink)\n",
    "#feature_img IS NOT A STRING!\n",
    "#turn it into a string and split it on the item that hold the link value\n",
    "splitsville = str(cerberus_speclink).split(\"src=\")\n",
    "#print(splitsville[1])\n",
    "url_part2 = splitsville[1].split(\"/>\")\n",
    "#print(url_part2[0])\n",
    "# trim off the quotes\n",
    "part2 = url_part2[0].replace('\"','')\n",
    "#print(part2)\n",
    "cerberus_full_img = base_url + part2\n",
    "print(cerberus_full_img)\n",
    "cerberus_title = \"Cerberus Hemisphere\""
   ]
  },
  {
   "cell_type": "code",
   "execution_count": 83,
   "metadata": {},
   "outputs": [
    {
     "name": "stdout",
     "output_type": "stream",
     "text": [
      "{'title': 'Cerberus Hemisphere', 'img_url': 'https://astrogeology.usgs.gov/cache/images/cfa62af2557222a02478f1fcd781d445_cerberus_enhanced.tif_full.jpg'}\n"
     ]
    }
   ],
   "source": [
    "# Cerberus Hemisphere 3 - dictionary\n",
    "cerberus_dict = {}\n",
    "cerberus_dict[\"title\"] = cerberus_title\n",
    "cerberus_dict[\"img_url\"] = cerberus_full_img\n",
    "print(cerberus_dict)\n",
    "hemisphere_image_urls.append(dict(cerberus_dict))\n"
   ]
  },
  {
   "cell_type": "code",
   "execution_count": 84,
   "metadata": {
    "collapsed": true
   },
   "outputs": [],
   "source": [
    "# Schiaparelli 1\n",
    "browser = webdriver.Chrome('chromedriver.exe')\n",
    "# get the page\n",
    "browser.get(url_schiaparelli)\n",
    "#Wait a few seconds\n",
    "time.sleep(5)\n",
    "\n",
    "html = browser.page_source\n",
    "soup = BeautifulSoup(html, \"html.parser\")"
   ]
  },
  {
   "cell_type": "code",
   "execution_count": 85,
   "metadata": {},
   "outputs": [
    {
     "name": "stdout",
     "output_type": "stream",
     "text": [
      "https://astrogeology.usgs.gov/cache/images/3cdd1cbf5e0813bba925c9030d13b62e_schiaparelli_enhanced.tif_full.jpg\n"
     ]
    }
   ],
   "source": [
    "# Schiaparelli 2 - get the big image\n",
    "schiaparelli_speclink = soup.find('img', class_=\"wide-image\")\n",
    "#print(schiaparelli_speclink)\n",
    "#feature_img IS NOT A STRING!\n",
    "#turn it into a string and split it on the item that hold the link value\n",
    "splitsville = str(schiaparelli_speclink).split(\"src=\")\n",
    "#print(splitsville[1])\n",
    "url_part2 = splitsville[1].split(\"/>\")\n",
    "#print(url_part2[0])\n",
    "# trim off the quotes\n",
    "part2 = url_part2[0].replace('\"','')\n",
    "#print(part2)\n",
    "schiaparelli_full_img = base_url + part2\n",
    "print(schiaparelli_full_img)\n",
    "schiaparelli_title = \"Schiaparelli Hemisphere\""
   ]
  },
  {
   "cell_type": "code",
   "execution_count": 86,
   "metadata": {},
   "outputs": [
    {
     "name": "stdout",
     "output_type": "stream",
     "text": [
      "{'title': 'Schiaparelli Hemisphere', 'img_url': 'https://astrogeology.usgs.gov/cache/images/3cdd1cbf5e0813bba925c9030d13b62e_schiaparelli_enhanced.tif_full.jpg'}\n"
     ]
    }
   ],
   "source": [
    "# Schiaparelli 3 - dictionary\n",
    "schiaparelli_dict = {}\n",
    "schiaparelli_dict[\"title\"] = schiaparelli_title\n",
    "schiaparelli_dict[\"img_url\"] = schiaparelli_full_img\n",
    "print(schiaparelli_dict)\n",
    "hemisphere_image_urls.append(dict(schiaparelli_dict))\n"
   ]
  },
  {
   "cell_type": "code",
   "execution_count": 87,
   "metadata": {
    "collapsed": true
   },
   "outputs": [],
   "source": [
    "# Syrtis Major Hemisphere - 1\n",
    "browser = webdriver.Chrome('chromedriver.exe')\n",
    "# get the page\n",
    "browser.get(url_syrtis)\n",
    "#Wait a few seconds\n",
    "time.sleep(5)\n",
    "\n",
    "html = browser.page_source\n",
    "soup = BeautifulSoup(html, \"html.parser\")"
   ]
  },
  {
   "cell_type": "code",
   "execution_count": 88,
   "metadata": {},
   "outputs": [
    {
     "name": "stdout",
     "output_type": "stream",
     "text": [
      "https://astrogeology.usgs.gov/cache/images/ae209b4e408bb6c3e67b6af38168cf28_syrtis_major_enhanced.tif_full.jpg\n"
     ]
    }
   ],
   "source": [
    "# Syrtis Major Hemisphere 2 - get the big image\n",
    "syrtis_speclink = soup.find('img', class_=\"wide-image\")\n",
    "#feature_img IS NOT A STRING!\n",
    "#turn it into a string and split it on the item that hold the link value\n",
    "splitsville = str(syrtis_speclink).split(\"src=\")\n",
    "#print(splitsville[1])\n",
    "url_part2 = splitsville[1].split(\"/>\")\n",
    "#print(url_part2[0])\n",
    "# trim off the quotes\n",
    "part2 = url_part2[0].replace('\"','')\n",
    "#print(part2)\n",
    "syrtis_full_img = base_url + part2\n",
    "print(syrtis_full_img)\n",
    "syrtis_title = \"Syrtis Major Hemisphere\""
   ]
  },
  {
   "cell_type": "code",
   "execution_count": 89,
   "metadata": {},
   "outputs": [
    {
     "name": "stdout",
     "output_type": "stream",
     "text": [
      "{'title': 'Syrtis Major Hemisphere', 'img_url': 'https://astrogeology.usgs.gov/cache/images/ae209b4e408bb6c3e67b6af38168cf28_syrtis_major_enhanced.tif_full.jpg'}\n"
     ]
    }
   ],
   "source": [
    "# Syrtis Major Hemisphere 3 - dictionary\n",
    "syrtis_dict = {}\n",
    "syrtis_dict[\"title\"] = syrtis_title\n",
    "syrtis_dict[\"img_url\"] = syrtis_full_img\n",
    "print(syrtis_dict)\n",
    "hemisphere_image_urls.append(dict(syrtis_dict))"
   ]
  },
  {
   "cell_type": "code",
   "execution_count": 90,
   "metadata": {},
   "outputs": [
    {
     "name": "stdout",
     "output_type": "stream",
     "text": [
      "[{'title': 'Valles Marineris Hemisphere', 'img_url': 'https://astrogeology.usgs.gov/cache/images/7cf2da4bf549ed01c17f206327be4db7_valles_marineris_enhanced.tif_full.jpg'}, {'title': 'Cerberus Hemisphere', 'img_url': 'https://astrogeology.usgs.gov/cache/images/cfa62af2557222a02478f1fcd781d445_cerberus_enhanced.tif_full.jpg'}, {'title': 'Schiaparelli Hemisphere', 'img_url': 'https://astrogeology.usgs.gov/cache/images/3cdd1cbf5e0813bba925c9030d13b62e_schiaparelli_enhanced.tif_full.jpg'}, {'title': 'Syrtis Major Hemisphere', 'img_url': 'https://astrogeology.usgs.gov/cache/images/ae209b4e408bb6c3e67b6af38168cf28_syrtis_major_enhanced.tif_full.jpg'}]\n"
     ]
    }
   ],
   "source": [
    "# list of the dictionaries\n",
    "print(hemisphere_image_urls)\n"
   ]
  },
  {
   "cell_type": "code",
   "execution_count": null,
   "metadata": {
    "collapsed": true
   },
   "outputs": [],
   "source": []
  },
  {
   "cell_type": "code",
   "execution_count": null,
   "metadata": {
    "collapsed": true
   },
   "outputs": [],
   "source": []
  },
  {
   "cell_type": "code",
   "execution_count": null,
   "metadata": {
    "collapsed": true
   },
   "outputs": [],
   "source": []
  },
  {
   "cell_type": "code",
   "execution_count": null,
   "metadata": {
    "collapsed": true
   },
   "outputs": [],
   "source": []
  },
  {
   "cell_type": "code",
   "execution_count": null,
   "metadata": {
    "collapsed": true
   },
   "outputs": [],
   "source": []
  },
  {
   "cell_type": "code",
   "execution_count": null,
   "metadata": {
    "collapsed": true
   },
   "outputs": [],
   "source": []
  },
  {
   "cell_type": "code",
   "execution_count": null,
   "metadata": {
    "collapsed": true
   },
   "outputs": [],
   "source": []
  },
  {
   "cell_type": "code",
   "execution_count": 1,
   "metadata": {
    "collapsed": true
   },
   "outputs": [],
   "source": [
    "# from class on 4/26 - Wolf's improved example"
   ]
  },
  {
   "cell_type": "code",
   "execution_count": 2,
   "metadata": {
    "collapsed": true
   },
   "outputs": [],
   "source": [
    "# Dependencies\n",
    "from flask import Flask, render_template, jsonify, redirect\n",
    "#from flask_pymongo import PyMongo\n",
    "import pymongo\n",
    "import scrape_craigslist"
   ]
  },
  {
   "cell_type": "code",
   "execution_count": 3,
   "metadata": {
    "collapsed": true
   },
   "outputs": [],
   "source": [
    "# Fire up flask\n",
    "app = Flask(__name__)\n"
   ]
  },
  {
   "cell_type": "code",
   "execution_count": 4,
   "metadata": {
    "collapsed": true
   },
   "outputs": [],
   "source": [
    "# Fire up Mongo DB\n",
    "#mongo = PyMongo(app)\n",
    "#conn = 'mongodb://localhost:27017'\n",
    "#client = pymongo.MongoClient(conn)\n",
    "#db = client.craigslist\n",
    "#collection = db.stuff"
   ]
  },
  {
   "cell_type": "code",
   "execution_count": null,
   "metadata": {
    "collapsed": true
   },
   "outputs": [],
   "source": [
    "# Base Route\n",
    "@app.route(\"/\")\n",
    "def index():\n",
    "    listings = db.collection.find_one()\n",
    "    return render_template(\"index.html\", listings=listings)"
   ]
  },
  {
   "cell_type": "code",
   "execution_count": null,
   "metadata": {
    "collapsed": true
   },
   "outputs": [],
   "source": [
    "#Scrape route\n",
    "@app.route(\"/scrape\")\n",
    "def scrape():\n",
    "    #listings = mongo.db.listings\n",
    "    listings = db.collection\n",
    "    listings_data = scrape_craigslist.scrape()\n",
    "    listings.update(\n",
    "        {},\n",
    "        listings_data,\n",
    "        upsert=True\n",
    "    )\n",
    "    return redirect(\"http://localhost:5000/\", code=302)\n",
    "\n",
    "\n",
    "if __name__ == \"__main__\":\n",
    "    app.run(debug=True)\n"
   ]
  },
  {
   "cell_type": "code",
   "execution_count": null,
   "metadata": {
    "collapsed": true
   },
   "outputs": [],
   "source": []
  },
  {
   "cell_type": "code",
   "execution_count": null,
   "metadata": {
    "collapsed": true
   },
   "outputs": [],
   "source": []
  },
  {
   "cell_type": "code",
   "execution_count": null,
   "metadata": {
    "collapsed": true
   },
   "outputs": [],
   "source": []
  },
  {
   "cell_type": "code",
   "execution_count": null,
   "metadata": {
    "collapsed": true
   },
   "outputs": [],
   "source": []
  },
  {
   "cell_type": "code",
   "execution_count": null,
   "metadata": {
    "collapsed": true
   },
   "outputs": [],
   "source": []
  },
  {
   "cell_type": "code",
   "execution_count": null,
   "metadata": {
    "collapsed": true
   },
   "outputs": [],
   "source": []
  },
  {
   "cell_type": "code",
   "execution_count": null,
   "metadata": {
    "collapsed": true
   },
   "outputs": [],
   "source": []
  },
  {
   "cell_type": "code",
   "execution_count": null,
   "metadata": {
    "collapsed": true
   },
   "outputs": [],
   "source": []
  },
  {
   "cell_type": "code",
   "execution_count": null,
   "metadata": {
    "collapsed": true
   },
   "outputs": [],
   "source": []
  },
  {
   "cell_type": "code",
   "execution_count": 7,
   "metadata": {
    "collapsed": true
   },
   "outputs": [],
   "source": [
    "# Dependencies\n",
    "from bs4 import BeautifulSoup\n",
    "import requests"
   ]
  },
  {
   "cell_type": "code",
   "execution_count": 8,
   "metadata": {
    "collapsed": true
   },
   "outputs": [],
   "source": [
    "# URL of page to be scraped\n",
    "url = 'https://mars.nasa.gov/news/'"
   ]
  },
  {
   "cell_type": "code",
   "execution_count": 9,
   "metadata": {
    "collapsed": true
   },
   "outputs": [],
   "source": [
    "# Retrieve page with the requests module\n",
    "response = requests.get(url)\n",
    "# Create BeautifulSoup object; parse with 'html.parser'\n",
    "soup = BeautifulSoup(response.text, 'html.parser')"
   ]
  },
  {
   "cell_type": "code",
   "execution_count": 10,
   "metadata": {},
   "outputs": [
    {
     "name": "stdout",
     "output_type": "stream",
     "text": [
      "<!DOCTYPE html>\n",
      "<!--[if lte IE 9]> <p class=\"browsehappy\">You are using an <strong>outdated</strong> browser. Please <a href=\"http://browsehappy.com/\">upgrade your browser</a> to improve your experience.</p> <![endif]-->\n",
      "<html lang=\"en\" xml:lang=\"en\" xmlns=\"http://www.w3.org/1999/xhtml\">\n",
      " <head>\n",
      "  <meta content=\"text/html; charset=utf-8\" http-equiv=\"Content-Type\"/>\n",
      "  <!-- Always force latest IE rendering engine or request Chrome Frame -->\n",
      "  <meta content=\"IE=edge,chrome=1\" http-equiv=\"X-UA-Compatible\"/>\n",
      "  <script type=\"text/javascript\">\n",
      "   window.NREUM||(NREUM={});NREUM.info={\"beacon\":\"bam.nr-data.net\",\"errorBeacon\":\"bam.nr-data.net\",\"licenseKey\":\"5e33925808\",\"applicationID\":\"59562082\",\"transactionName\":\"JVcPR0MLWApSRU1eAQVVEhxSC1oSUlkWbBMHXwRAHhdcCUA=\",\"queueTime\":0,\"applicationTime\":344,\"agent\":\"\"}\n",
      "  </script>\n",
      "  <script type=\"text/javascript\">\n",
      "   (window.NREUM||(NREUM={})).loader_config={xpid:\"VQcPUlZTDxAFXVRUBQEPVA==\"};window.NREUM||(NREUM={}),__nr_require=function(t,n,e){function r(e){if(!n[e]){var o=n[e]={exports:{}};t[e][0].call(o.exports,function(n){var o=t[e][1][n];return r(o||n)},o,o.exports)}return n[e].exports}if(\"function\"==typeof __nr_require)return __nr_require;for(var o=0;o<e.length;o++)r(e[o]);return r}({1:[function(t,n,e){function r(t){try{s.console&&console.log(t)}catch(n){}}var o,i=t(\"ee\"),a=t(15),s={};try{o=localStorage.getItem(\"__nr_flags\").split(\",\"),console&&\"function\"==typeof console.log&&(s.console=!0,o.indexOf(\"dev\")!==-1&&(s.dev=!0),o.indexOf(\"nr_dev\")!==-1&&(s.nrDev=!0))}catch(c){}s.nrDev&&i.on(\"internal-error\",function(t){r(t.stack)}),s.dev&&i.on(\"fn-err\",function(t,n,e){r(e.stack)}),s.dev&&(r(\"NR AGENT IN DEVELOPMENT MODE\"),r(\"flags: \"+a(s,function(t,n){return t}).join(\", \")))},{}],2:[function(t,n,e){function r(t,n,e,r,s){try{p?p-=1:o(s||new UncaughtException(t,n,e),!0)}catch(f){try{i(\"ierr\",[f,c.now(),!0])}catch(d){}}return\"function\"==typeof u&&u.apply(this,a(arguments))}function UncaughtException(t,n,e){this.message=t||\"Uncaught error with no additional information\",this.sourceURL=n,this.line=e}function o(t,n){var e=n?null:c.now();i(\"err\",[t,e])}var i=t(\"handle\"),a=t(16),s=t(\"ee\"),c=t(\"loader\"),f=t(\"gos\"),u=window.onerror,d=!1,l=\"nr@seenError\",p=0;c.features.err=!0,t(1),window.onerror=r;try{throw new Error}catch(h){\"stack\"in h&&(t(8),t(7),\"addEventListener\"in window&&t(5),c.xhrWrappable&&t(9),d=!0)}s.on(\"fn-start\",function(t,n,e){d&&(p+=1)}),s.on(\"fn-err\",function(t,n,e){d&&!e[l]&&(f(e,l,function(){return!0}),this.thrown=!0,o(e))}),s.on(\"fn-end\",function(){d&&!this.thrown&&p>0&&(p-=1)}),s.on(\"internal-error\",function(t){i(\"ierr\",[t,c.now(),!0])})},{}],3:[function(t,n,e){t(\"loader\").features.ins=!0},{}],4:[function(t,n,e){function r(t){}if(window.performance&&window.performance.timing&&window.performance.getEntriesByType){var o=t(\"ee\"),i=t(\"handle\"),a=t(8),s=t(7),c=\"learResourceTimings\",f=\"addEventListener\",u=\"resourcetimingbufferfull\",d=\"bstResource\",l=\"resource\",p=\"-start\",h=\"-end\",m=\"fn\"+p,w=\"fn\"+h,v=\"bstTimer\",y=\"pushState\",g=t(\"loader\");g.features.stn=!0,t(6);var b=NREUM.o.EV;o.on(m,function(t,n){var e=t[0];e instanceof b&&(this.bstStart=g.now())}),o.on(w,function(t,n){var e=t[0];e instanceof b&&i(\"bst\",[e,n,this.bstStart,g.now()])}),a.on(m,function(t,n,e){this.bstStart=g.now(),this.bstType=e}),a.on(w,function(t,n){i(v,[n,this.bstStart,g.now(),this.bstType])}),s.on(m,function(){this.bstStart=g.now()}),s.on(w,function(t,n){i(v,[n,this.bstStart,g.now(),\"requestAnimationFrame\"])}),o.on(y+p,function(t){this.time=g.now(),this.startPath=location.pathname+location.hash}),o.on(y+h,function(t){i(\"bstHist\",[location.pathname+location.hash,this.startPath,this.time])}),f in window.performance&&(window.performance[\"c\"+c]?window.performance[f](u,function(t){i(d,[window.performance.getEntriesByType(l)]),window.performance[\"c\"+c]()},!1):window.performance[f](\"webkit\"+u,function(t){i(d,[window.performance.getEntriesByType(l)]),window.performance[\"webkitC\"+c]()},!1)),document[f](\"scroll\",r,{passive:!0}),document[f](\"keypress\",r,!1),document[f](\"click\",r,!1)}},{}],5:[function(t,n,e){function r(t){for(var n=t;n&&!n.hasOwnProperty(u);)n=Object.getPrototypeOf(n);n&&o(n)}function o(t){s.inPlace(t,[u,d],\"-\",i)}function i(t,n){return t[1]}var a=t(\"ee\").get(\"events\"),s=t(18)(a,!0),c=t(\"gos\"),f=XMLHttpRequest,u=\"addEventListener\",d=\"removeEventListener\";n.exports=a,\"getPrototypeOf\"in Object?(r(document),r(window),r(f.prototype)):f.prototype.hasOwnProperty(u)&&(o(window),o(f.prototype)),a.on(u+\"-start\",function(t,n){var e=t[1],r=c(e,\"nr@wrapped\",function(){function t(){if(\"function\"==typeof e.handleEvent)return e.handleEvent.apply(e,arguments)}var n={object:t,\"function\":e}[typeof e];return n?s(n,\"fn-\",null,n.name||\"anonymous\"):e});this.wrapped=t[1]=r}),a.on(d+\"-start\",function(t){t[1]=this.wrapped||t[1]})},{}],6:[function(t,n,e){var r=t(\"ee\").get(\"history\"),o=t(18)(r);n.exports=r,o.inPlace(window.history,[\"pushState\",\"replaceState\"],\"-\")},{}],7:[function(t,n,e){var r=t(\"ee\").get(\"raf\"),o=t(18)(r),i=\"equestAnimationFrame\";n.exports=r,o.inPlace(window,[\"r\"+i,\"mozR\"+i,\"webkitR\"+i,\"msR\"+i],\"raf-\"),r.on(\"raf-start\",function(t){t[0]=o(t[0],\"fn-\")})},{}],8:[function(t,n,e){function r(t,n,e){t[0]=a(t[0],\"fn-\",null,e)}function o(t,n,e){this.method=e,this.timerDuration=isNaN(t[1])?0:+t[1],t[0]=a(t[0],\"fn-\",this,e)}var i=t(\"ee\").get(\"timer\"),a=t(18)(i),s=\"setTimeout\",c=\"setInterval\",f=\"clearTimeout\",u=\"-start\",d=\"-\";n.exports=i,a.inPlace(window,[s,\"setImmediate\"],s+d),a.inPlace(window,[c],c+d),a.inPlace(window,[f,\"clearImmediate\"],f+d),i.on(c+u,r),i.on(s+u,o)},{}],9:[function(t,n,e){function r(t,n){d.inPlace(n,[\"onreadystatechange\"],\"fn-\",s)}function o(){var t=this,n=u.context(t);t.readyState>3&&!n.resolved&&(n.resolved=!0,u.emit(\"xhr-resolved\",[],t)),d.inPlace(t,y,\"fn-\",s)}function i(t){g.push(t),h&&(x?x.then(a):w?w(a):(E=-E,O.data=E))}function a(){for(var t=0;t<g.length;t++)r([],g[t]);g.length&&(g=[])}function s(t,n){return n}function c(t,n){for(var e in t)n[e]=t[e];return n}t(5);var f=t(\"ee\"),u=f.get(\"xhr\"),d=t(18)(u),l=NREUM.o,p=l.XHR,h=l.MO,m=l.PR,w=l.SI,v=\"readystatechange\",y=[\"onload\",\"onerror\",\"onabort\",\"onloadstart\",\"onloadend\",\"onprogress\",\"ontimeout\"],g=[];n.exports=u;var b=window.XMLHttpRequest=function(t){var n=new p(t);try{u.emit(\"new-xhr\",[n],n),n.addEventListener(v,o,!1)}catch(e){try{u.emit(\"internal-error\",[e])}catch(r){}}return n};if(c(p,b),b.prototype=p.prototype,d.inPlace(b.prototype,[\"open\",\"send\"],\"-xhr-\",s),u.on(\"send-xhr-start\",function(t,n){r(t,n),i(n)}),u.on(\"open-xhr-start\",r),h){var x=m&&m.resolve();if(!w&&!m){var E=1,O=document.createTextNode(E);new h(a).observe(O,{characterData:!0})}}else f.on(\"fn-end\",function(t){t[0]&&t[0].type===v||a()})},{}],10:[function(t,n,e){function r(t){var n=this.params,e=this.metrics;if(!this.ended){this.ended=!0;for(var r=0;r<d;r++)t.removeEventListener(u[r],this.listener,!1);if(!n.aborted){if(e.duration=a.now()-this.startTime,4===t.readyState){n.status=t.status;var i=o(t,this.lastSize);if(i&&(e.rxSize=i),this.sameOrigin){var c=t.getResponseHeader(\"X-NewRelic-App-Data\");c&&(n.cat=c.split(\", \").pop())}}else n.status=0;e.cbTime=this.cbTime,f.emit(\"xhr-done\",[t],t),s(\"xhr\",[n,e,this.startTime])}}}function o(t,n){var e=t.responseType;if(\"json\"===e&&null!==n)return n;var r=\"arraybuffer\"===e||\"blob\"===e||\"json\"===e?t.response:t.responseText;return h(r)}function i(t,n){var e=c(n),r=t.params;r.host=e.hostname+\":\"+e.port,r.pathname=e.pathname,t.sameOrigin=e.sameOrigin}var a=t(\"loader\");if(a.xhrWrappable){var s=t(\"handle\"),c=t(11),f=t(\"ee\"),u=[\"load\",\"error\",\"abort\",\"timeout\"],d=u.length,l=t(\"id\"),p=t(14),h=t(13),m=window.XMLHttpRequest;a.features.xhr=!0,t(9),f.on(\"new-xhr\",function(t){var n=this;n.totalCbs=0,n.called=0,n.cbTime=0,n.end=r,n.ended=!1,n.xhrGuids={},n.lastSize=null,p&&(p>34||p<10)||window.opera||t.addEventListener(\"progress\",function(t){n.lastSize=t.loaded},!1)}),f.on(\"open-xhr-start\",function(t){this.params={method:t[0]},i(this,t[1]),this.metrics={}}),f.on(\"open-xhr-end\",function(t,n){\"loader_config\"in NREUM&&\"xpid\"in NREUM.loader_config&&this.sameOrigin&&n.setRequestHeader(\"X-NewRelic-ID\",NREUM.loader_config.xpid)}),f.on(\"send-xhr-start\",function(t,n){var e=this.metrics,r=t[0],o=this;if(e&&r){var i=h(r);i&&(e.txSize=i)}this.startTime=a.now(),this.listener=function(t){try{\"abort\"===t.type&&(o.params.aborted=!0),(\"load\"!==t.type||o.called===o.totalCbs&&(o.onloadCalled||\"function\"!=typeof n.onload))&&o.end(n)}catch(e){try{f.emit(\"internal-error\",[e])}catch(r){}}};for(var s=0;s<d;s++)n.addEventListener(u[s],this.listener,!1)}),f.on(\"xhr-cb-time\",function(t,n,e){this.cbTime+=t,n?this.onloadCalled=!0:this.called+=1,this.called!==this.totalCbs||!this.onloadCalled&&\"function\"==typeof e.onload||this.end(e)}),f.on(\"xhr-load-added\",function(t,n){var e=\"\"+l(t)+!!n;this.xhrGuids&&!this.xhrGuids[e]&&(this.xhrGuids[e]=!0,this.totalCbs+=1)}),f.on(\"xhr-load-removed\",function(t,n){var e=\"\"+l(t)+!!n;this.xhrGuids&&this.xhrGuids[e]&&(delete this.xhrGuids[e],this.totalCbs-=1)}),f.on(\"addEventListener-end\",function(t,n){n instanceof m&&\"load\"===t[0]&&f.emit(\"xhr-load-added\",[t[1],t[2]],n)}),f.on(\"removeEventListener-end\",function(t,n){n instanceof m&&\"load\"===t[0]&&f.emit(\"xhr-load-removed\",[t[1],t[2]],n)}),f.on(\"fn-start\",function(t,n,e){n instanceof m&&(\"onload\"===e&&(this.onload=!0),(\"load\"===(t[0]&&t[0].type)||this.onload)&&(this.xhrCbStart=a.now()))}),f.on(\"fn-end\",function(t,n){this.xhrCbStart&&f.emit(\"xhr-cb-time\",[a.now()-this.xhrCbStart,this.onload,n],n)})}},{}],11:[function(t,n,e){n.exports=function(t){var n=document.createElement(\"a\"),e=window.location,r={};n.href=t,r.port=n.port;var o=n.href.split(\"://\");!r.port&&o[1]&&(r.port=o[1].split(\"/\")[0].split(\"@\").pop().split(\":\")[1]),r.port&&\"0\"!==r.port||(r.port=\"https\"===o[0]?\"443\":\"80\"),r.hostname=n.hostname||e.hostname,r.pathname=n.pathname,r.protocol=o[0],\"/\"!==r.pathname.charAt(0)&&(r.pathname=\"/\"+r.pathname);var i=!n.protocol||\":\"===n.protocol||n.protocol===e.protocol,a=n.hostname===document.domain&&n.port===e.port;return r.sameOrigin=i&&(!n.hostname||a),r}},{}],12:[function(t,n,e){function r(){}function o(t,n,e){return function(){return i(t,[f.now()].concat(s(arguments)),n?null:this,e),n?void 0:this}}var i=t(\"handle\"),a=t(15),s=t(16),c=t(\"ee\").get(\"tracer\"),f=t(\"loader\"),u=NREUM;\"undefined\"==typeof window.newrelic&&(newrelic=u);var d=[\"setPageViewName\",\"setCustomAttribute\",\"setErrorHandler\",\"finished\",\"addToTrace\",\"inlineHit\",\"addRelease\"],l=\"api-\",p=l+\"ixn-\";a(d,function(t,n){u[n]=o(l+n,!0,\"api\")}),u.addPageAction=o(l+\"addPageAction\",!0),u.setCurrentRouteName=o(l+\"routeName\",!0),n.exports=newrelic,u.interaction=function(){return(new r).get()};var h=r.prototype={createTracer:function(t,n){var e={},r=this,o=\"function\"==typeof n;return i(p+\"tracer\",[f.now(),t,e],r),function(){if(c.emit((o?\"\":\"no-\")+\"fn-start\",[f.now(),r,o],e),o)try{return n.apply(this,arguments)}catch(t){throw c.emit(\"fn-err\",[arguments,this,t],e),t}finally{c.emit(\"fn-end\",[f.now()],e)}}}};a(\"setName,setAttribute,save,ignore,onEnd,getContext,end,get\".split(\",\"),function(t,n){h[n]=o(p+n)}),newrelic.noticeError=function(t){\"string\"==typeof t&&(t=new Error(t)),i(\"err\",[t,f.now()])}},{}],13:[function(t,n,e){n.exports=function(t){if(\"string\"==typeof t&&t.length)return t.length;if(\"object\"==typeof t){if(\"undefined\"!=typeof ArrayBuffer&&t instanceof ArrayBuffer&&t.byteLength)return t.byteLength;if(\"undefined\"!=typeof Blob&&t instanceof Blob&&t.size)return t.size;if(!(\"undefined\"!=typeof FormData&&t instanceof FormData))try{return JSON.stringify(t).length}catch(n){return}}}},{}],14:[function(t,n,e){var r=0,o=navigator.userAgent.match(/Firefox[\\/\\s](\\d+\\.\\d+)/);o&&(r=+o[1]),n.exports=r},{}],15:[function(t,n,e){function r(t,n){var e=[],r=\"\",i=0;for(r in t)o.call(t,r)&&(e[i]=n(r,t[r]),i+=1);return e}var o=Object.prototype.hasOwnProperty;n.exports=r},{}],16:[function(t,n,e){function r(t,n,e){n||(n=0),\"undefined\"==typeof e&&(e=t?t.length:0);for(var r=-1,o=e-n||0,i=Array(o<0?0:o);++r<o;)i[r]=t[n+r];return i}n.exports=r},{}],17:[function(t,n,e){n.exports={exists:\"undefined\"!=typeof window.performance&&window.performance.timing&&\"undefined\"!=typeof window.performance.timing.navigationStart}},{}],18:[function(t,n,e){function r(t){return!(t&&t instanceof Function&&t.apply&&!t[a])}var o=t(\"ee\"),i=t(16),a=\"nr@original\",s=Object.prototype.hasOwnProperty,c=!1;n.exports=function(t,n){function e(t,n,e,o){function nrWrapper(){var r,a,s,c;try{a=this,r=i(arguments),s=\"function\"==typeof e?e(r,a):e||{}}catch(f){l([f,\"\",[r,a,o],s])}u(n+\"start\",[r,a,o],s);try{return c=t.apply(a,r)}catch(d){throw u(n+\"err\",[r,a,d],s),d}finally{u(n+\"end\",[r,a,c],s)}}return r(t)?t:(n||(n=\"\"),nrWrapper[a]=t,d(t,nrWrapper),nrWrapper)}function f(t,n,o,i){o||(o=\"\");var a,s,c,f=\"-\"===o.charAt(0);for(c=0;c<n.length;c++)s=n[c],a=t[s],r(a)||(t[s]=e(a,f?s+o:o,i,s))}function u(e,r,o){if(!c||n){var i=c;c=!0;try{t.emit(e,r,o,n)}catch(a){l([a,e,r,o])}c=i}}function d(t,n){if(Object.defineProperty&&Object.keys)try{var e=Object.keys(t);return e.forEach(function(e){Object.defineProperty(n,e,{get:function(){return t[e]},set:function(n){return t[e]=n,n}})}),n}catch(r){l([r])}for(var o in t)s.call(t,o)&&(n[o]=t[o]);return n}function l(n){try{t.emit(\"internal-error\",n)}catch(e){}}return t||(t=o),e.inPlace=f,e.flag=a,e}},{}],ee:[function(t,n,e){function r(){}function o(t){function n(t){return t&&t instanceof r?t:t?c(t,s,i):i()}function e(e,r,o,i){if(!l.aborted||i){t&&t(e,r,o);for(var a=n(o),s=h(e),c=s.length,f=0;f<c;f++)s[f].apply(a,r);var d=u[y[e]];return d&&d.push([g,e,r,a]),a}}function p(t,n){v[t]=h(t).concat(n)}function h(t){return v[t]||[]}function m(t){return d[t]=d[t]||o(e)}function w(t,n){f(t,function(t,e){n=n||\"feature\",y[e]=n,n in u||(u[n]=[])})}var v={},y={},g={on:p,emit:e,get:m,listeners:h,context:n,buffer:w,abort:a,aborted:!1};return g}function i(){return new r}function a(){(u.api||u.feature)&&(l.aborted=!0,u=l.backlog={})}var s=\"nr@context\",c=t(\"gos\"),f=t(15),u={},d={},l=n.exports=o();l.backlog=u},{}],gos:[function(t,n,e){function r(t,n,e){if(o.call(t,n))return t[n];var r=e();if(Object.defineProperty&&Object.keys)try{return Object.defineProperty(t,n,{value:r,writable:!0,enumerable:!1}),r}catch(i){}return t[n]=r,r}var o=Object.prototype.hasOwnProperty;n.exports=r},{}],handle:[function(t,n,e){function r(t,n,e,r){o.buffer([t],r),o.emit(t,n,e)}var o=t(\"ee\").get(\"handle\");n.exports=r,r.ee=o},{}],id:[function(t,n,e){function r(t){var n=typeof t;return!t||\"object\"!==n&&\"function\"!==n?-1:t===window?0:a(t,i,function(){return o++})}var o=1,i=\"nr@id\",a=t(\"gos\");n.exports=r},{}],loader:[function(t,n,e){function r(){if(!x++){var t=b.info=NREUM.info,n=l.getElementsByTagName(\"script\")[0];if(setTimeout(u.abort,3e4),!(t&&t.licenseKey&&t.applicationID&&n))return u.abort();f(y,function(n,e){t[n]||(t[n]=e)}),c(\"mark\",[\"onload\",a()+b.offset],null,\"api\");var e=l.createElement(\"script\");e.src=\"https://\"+t.agent,n.parentNode.insertBefore(e,n)}}function o(){\"complete\"===l.readyState&&i()}function i(){c(\"mark\",[\"domContent\",a()+b.offset],null,\"api\")}function a(){return E.exists&&performance.now?Math.round(performance.now()):(s=Math.max((new Date).getTime(),s))-b.offset}var s=(new Date).getTime(),c=t(\"handle\"),f=t(15),u=t(\"ee\"),d=window,l=d.document,p=\"addEventListener\",h=\"attachEvent\",m=d.XMLHttpRequest,w=m&&m.prototype;NREUM.o={ST:setTimeout,SI:d.setImmediate,CT:clearTimeout,XHR:m,REQ:d.Request,EV:d.Event,PR:d.Promise,MO:d.MutationObserver};var v=\"\"+location,y={beacon:\"bam.nr-data.net\",errorBeacon:\"bam.nr-data.net\",agent:\"js-agent.newrelic.com/nr-1071.min.js\"},g=m&&w&&w[p]&&!/CriOS/.test(navigator.userAgent),b=n.exports={offset:s,now:a,origin:v,features:{},xhrWrappable:g};t(12),l[p]?(l[p](\"DOMContentLoaded\",i,!1),d[p](\"load\",r,!1)):(l[h](\"onreadystatechange\",o),d[h](\"onload\",r)),c(\"mark\",[\"firstbyte\",s],null,\"api\");var x=0,E=t(17)},{}]},{},[\"loader\",2,10,4,3]);\n",
      "  </script>\n",
      "  <!-- Responsiveness -->\n",
      "  <meta content=\"width=device-width, initial-scale=1.0\" name=\"viewport\"/>\n",
      "  <!-- Favicon -->\n",
      "  <link href=\"/apple-touch-icon.png\" rel=\"apple-touch-icon\" sizes=\"180x180\"/>\n",
      "  <link href=\"/favicon-32x32.png\" rel=\"icon\" sizes=\"32x32\" type=\"image/png\"/>\n",
      "  <link href=\"/favicon-16x16.png\" rel=\"icon\" sizes=\"16x16\" type=\"image/png\"/>\n",
      "  <link href=\"/manifest.json\" rel=\"manifest\"/>\n",
      "  <link color=\"#e48b55\" href=\"/safari-pinned-tab.svg\" rel=\"mask-icon\"/>\n",
      "  <meta content=\"#000000\" name=\"theme-color\"/>\n",
      "  <meta content=\"authenticity_token\" name=\"csrf-param\">\n",
      "   <meta content=\"pPB072Pp0J60hAkczItKOenrSnqc5JiWHwLBo3HgOSA=\" name=\"csrf-token\">\n",
      "    <title>\n",
      "     NASA’s Mars Exploration Program : News\n",
      "    </title>\n",
      "    <meta content=\"NASA’s Mars Exploration Program \" property=\"og:site_name\"/>\n",
      "    <meta content=\"mars.nasa.gov\" name=\"author\"/>\n",
      "    <meta content=\"Mars, missions, NASA, rover, Curiosity, Opportunity, InSight, Mars Reconnaissance Orbiter, facts\" name=\"keywords\"/>\n",
      "    <meta content=\"NASA’s real-time portal for Mars exploration, featuring the last news, images, and discoveries from the Red Planet.\" name=\"description\"/>\n",
      "    <meta content=\"NASA’s real-time portal for Mars exploration, featuring the last news, images, and discoveries from the Red Planet.\" property=\"og:description\"/>\n",
      "    <meta content=\"NASA’s Mars Exploration Program : News \" property=\"og:title\"/>\n",
      "    <meta content=\"https://mars.nasa.gov/news\" property=\"og:url\"/>\n",
      "    <meta content=\"article\" property=\"og:type\"/>\n",
      "    <meta content=\"2017-09-22 19:53:22 UTC\" property=\"og:updated_time\"/>\n",
      "    <meta content=\"https://mars.nasa.gov/system/site_config_values/meta_share_images/1_142497main_PIA03154-200.jpg\" property=\"og:image\"/>\n",
      "    <link href=\"https://mars.nasa.gov/system/site_config_values/meta_share_images/1_142497main_PIA03154-200.jpg\" rel=\"image_src\"/>\n",
      "    <link href=\"https://fonts.googleapis.com/css?family=Montserrat:200,300,400,500,600,700|Raleway:300,400\" rel=\"stylesheet\"/>\n",
      "    <link href=\"/assets/public_manifest-574a8376577ebdeea854fd2967ce0bef2e7d5cfd38633c33e8d92aed83e81c3a.css\" media=\"all\" rel=\"stylesheet\">\n",
      "     <link href=\"/assets/gulp/vendor/jquery.fancybox-364352e03618ba5a8da007665b1f0be31795293b22bc4d7c5974891d4976a137.css\" media=\"screen\" rel=\"stylesheet\">\n",
      "      <link href=\"/assets/gulp/print-240f8bfaa7f6402dfd6c49ee3c1ffea57a89ddd4c8c90e2f2a5c7d63c5753e32.css\" media=\"print\" rel=\"stylesheet\">\n",
      "       <script src=\"/assets/public_manifest-eed54cbc0cf59efc6cd5645db8873a28b8feb4489dd1ea1c3842a65c1a1d5dee.js\">\n",
      "       </script>\n",
      "       <!--[if gt IE 8]><!-->\n",
      "       <script src=\"/assets/not_ie8_manifest.js\">\n",
      "       </script>\n",
      "       <!--[if !IE]>-->\n",
      "       <script src=\"/assets/not_ie8_manifest.js\">\n",
      "       </script>\n",
      "       <!--<![endif]-->\n",
      "       <script src=\"/assets/vendor/jquery.fancybox-9d361e5f98a5c0f233a25df9252dbadea6897af1c0ef221d7465e1205941ea0d.js\">\n",
      "       </script>\n",
      "       <script src=\"/assets/mb_manifest-beb93a6fa0c9c378ceac4ff575efdfe599ad319d75eef30bf6c6cd48e1ccfc26.js\">\n",
      "       </script>\n",
      "       <!-- /twitter cards -->\n",
      "       <meta content=\"summary_large_image\" name=\"twitter:card\"/>\n",
      "       <meta content=\"News \" name=\"twitter:title\"/>\n",
      "       <meta content=\"NASA’s real-time portal for Mars exploration, featuring the last news, images, and discoveries from the Red Planet.\" name=\"twitter:description\"/>\n",
      "       <meta content=\"https://mars.nasa.gov/system/site_config_values/meta_share_images/1_142497main_PIA03154-200.jpg\" name=\"twitter:image\"/>\n",
      "      </link>\n",
      "     </link>\n",
      "    </link>\n",
      "   </meta>\n",
      "  </meta>\n",
      " </head>\n",
      " <body id=\"news\">\n",
      "  <div id=\"main_container\">\n",
      "   <div id=\"site_body\">\n",
      "    <div class=\"site_header_area\">\n",
      "     <header class=\"site_header\">\n",
      "      <div class=\"brand_area\">\n",
      "       <div class=\"brand1\">\n",
      "        <a class=\"nasa_logo\" href=\"http://www.nasa.gov\" target=\"_blank\" title=\"visit nasa.gov\">\n",
      "         NASA\n",
      "        </a>\n",
      "       </div>\n",
      "       <div class=\"brand2\">\n",
      "        <a class=\"top_logo\" href=\"https://science.nasa.gov/\" target=\"_blank\" title=\"Explore NASA Science\">\n",
      "         NASA Science\n",
      "        </a>\n",
      "        <a class=\"sub_logo\" href=\"/mars-exploration/#\" title=\"Mars\">\n",
      "         Mars Exploration Program\n",
      "        </a>\n",
      "       </div>\n",
      "       <img alt=\"\" class=\"print_only print_logo\" src=\"/assets/logo_nasa_trio_black@2x.png\"/>\n",
      "      </div>\n",
      "      <a class=\"visuallyhidden focusable\" href=\"#page\">\n",
      "       Skip Navigation\n",
      "      </a>\n",
      "      <div class=\"right_header_container\">\n",
      "       <a class=\"menu_button\" href=\"javascript:void(0);\" id=\"menu_button\">\n",
      "        <span class=\"menu_icon\">\n",
      "         menu\n",
      "        </span>\n",
      "       </a>\n",
      "       <a class=\"modal_close\" id=\"modal_close\">\n",
      "        <span class=\"modal_close_icon\">\n",
      "        </span>\n",
      "       </a>\n",
      "      </div>\n",
      "      <div class=\"nav_area\">\n",
      "       <div id=\"site_nav_container\">\n",
      "        <nav class=\"site_nav\">\n",
      "         <ul class=\"nav\">\n",
      "          <li>\n",
      "           <div class=\"arrow_box\">\n",
      "            <span class=\"arrow_down\">\n",
      "            </span>\n",
      "           </div>\n",
      "           <div class=\"nav_title\">\n",
      "            <a class=\"main_nav_item\" href=\"/#red_planet\" target=\"_self\">\n",
      "             The Red Planet\n",
      "            </a>\n",
      "           </div>\n",
      "           <div class=\"global_subnav_container\">\n",
      "            <ul class=\"subnav\">\n",
      "             <li>\n",
      "              <a href=\"/#red_planet/0\" target=\"_self\">\n",
      "               Dashboard\n",
      "              </a>\n",
      "             </li>\n",
      "             <li>\n",
      "              <a href=\"/#red_planet/1\" target=\"_self\">\n",
      "               Science Goals\n",
      "              </a>\n",
      "             </li>\n",
      "             <li>\n",
      "              <a href=\"/#red_planet/2\" target=\"_self\">\n",
      "               The Planet\n",
      "              </a>\n",
      "             </li>\n",
      "             <li>\n",
      "              <a href=\"/#red_planet/3\" target=\"_self\">\n",
      "               Atmosphere\n",
      "              </a>\n",
      "             </li>\n",
      "             <li>\n",
      "              <a href=\"/#red_planet/4\" target=\"_self\">\n",
      "               Astrobiology\n",
      "              </a>\n",
      "             </li>\n",
      "             <li>\n",
      "              <a href=\"/#red_planet/5\" target=\"_self\">\n",
      "               Past, Present, Future, Timeline\n",
      "              </a>\n",
      "             </li>\n",
      "            </ul>\n",
      "           </div>\n",
      "           <div class=\"gradient_line\">\n",
      "           </div>\n",
      "          </li>\n",
      "          <li>\n",
      "           <div class=\"arrow_box\">\n",
      "            <span class=\"arrow_down\">\n",
      "            </span>\n",
      "           </div>\n",
      "           <div class=\"nav_title\">\n",
      "            <a class=\"main_nav_item\" href=\"/#mars_exploration_program\" target=\"_self\">\n",
      "             The Program\n",
      "            </a>\n",
      "           </div>\n",
      "           <div class=\"global_subnav_container\">\n",
      "            <ul class=\"subnav\">\n",
      "             <li>\n",
      "              <a href=\"/#mars_exploration_program/0\" target=\"_self\">\n",
      "               Mission Statement\n",
      "              </a>\n",
      "             </li>\n",
      "             <li>\n",
      "              <a href=\"/#mars_exploration_program/1\" target=\"_self\">\n",
      "               About the Program\n",
      "              </a>\n",
      "             </li>\n",
      "             <li>\n",
      "              <a href=\"/#mars_exploration_program/2\" target=\"_self\">\n",
      "               Organization\n",
      "              </a>\n",
      "             </li>\n",
      "             <li>\n",
      "              <a href=\"/#mars_exploration_program/3\" target=\"_self\">\n",
      "               Why Mars?\n",
      "              </a>\n",
      "             </li>\n",
      "             <li>\n",
      "              <a href=\"/#mars_exploration_program/4\" target=\"_self\">\n",
      "               Research Programs\n",
      "              </a>\n",
      "             </li>\n",
      "             <li>\n",
      "              <a href=\"/#mars_exploration_program/5\" target=\"_self\">\n",
      "               Planetary Resources\n",
      "              </a>\n",
      "             </li>\n",
      "             <li>\n",
      "              <a href=\"/#mars_exploration_program/6\" target=\"_self\">\n",
      "               Technologies\n",
      "              </a>\n",
      "             </li>\n",
      "            </ul>\n",
      "           </div>\n",
      "           <div class=\"gradient_line\">\n",
      "           </div>\n",
      "          </li>\n",
      "          <li>\n",
      "           <div class=\"arrow_box\">\n",
      "            <span class=\"arrow_down\">\n",
      "            </span>\n",
      "           </div>\n",
      "           <div class=\"nav_title\">\n",
      "            <a class=\"main_nav_item\" href=\"/#news_and_events\" target=\"_self\">\n",
      "             News &amp; Events\n",
      "            </a>\n",
      "           </div>\n",
      "           <div class=\"global_subnav_container\">\n",
      "            <ul class=\"subnav\">\n",
      "             <li class=\"current\">\n",
      "              <a href=\"/news\" target=\"_self\">\n",
      "               News\n",
      "              </a>\n",
      "             </li>\n",
      "             <li>\n",
      "              <a href=\"/events\" target=\"_self\">\n",
      "               Events\n",
      "              </a>\n",
      "             </li>\n",
      "            </ul>\n",
      "           </div>\n",
      "           <div class=\"gradient_line\">\n",
      "           </div>\n",
      "          </li>\n",
      "          <li>\n",
      "           <div class=\"arrow_box\">\n",
      "            <span class=\"arrow_down\">\n",
      "            </span>\n",
      "           </div>\n",
      "           <div class=\"nav_title\">\n",
      "            <a class=\"main_nav_item\" href=\"/#multimedia\" target=\"_self\">\n",
      "             Multimedia\n",
      "            </a>\n",
      "           </div>\n",
      "           <div class=\"global_subnav_container\">\n",
      "            <ul class=\"subnav\">\n",
      "             <li>\n",
      "              <a href=\"/multimedia/images/\" target=\"_self\">\n",
      "               Images\n",
      "              </a>\n",
      "             </li>\n",
      "             <li>\n",
      "              <a href=\"/multimedia/videos/\" target=\"_self\">\n",
      "               Videos\n",
      "              </a>\n",
      "             </li>\n",
      "            </ul>\n",
      "           </div>\n",
      "           <div class=\"gradient_line\">\n",
      "           </div>\n",
      "          </li>\n",
      "          <li>\n",
      "           <div class=\"arrow_box\">\n",
      "            <span class=\"arrow_down\">\n",
      "            </span>\n",
      "           </div>\n",
      "           <div class=\"nav_title\">\n",
      "            <a class=\"main_nav_item\" href=\"/#missions\" target=\"_self\">\n",
      "             Missions\n",
      "            </a>\n",
      "           </div>\n",
      "           <div class=\"global_subnav_container\">\n",
      "            <ul class=\"subnav\">\n",
      "             <li>\n",
      "              <a href=\"/mars-exploration/missions/?category=167\" target=\"_self\">\n",
      "               Past\n",
      "              </a>\n",
      "             </li>\n",
      "             <li>\n",
      "              <a href=\"/mars-exploration/missions/?category=170\" target=\"_self\">\n",
      "               Present\n",
      "              </a>\n",
      "             </li>\n",
      "             <li>\n",
      "              <a href=\"/mars-exploration/missions/?category=171\" target=\"_self\">\n",
      "               Future\n",
      "              </a>\n",
      "             </li>\n",
      "             <li>\n",
      "              <a href=\"/mars-exploration/partners\" target=\"_self\">\n",
      "               International Partners\n",
      "              </a>\n",
      "             </li>\n",
      "            </ul>\n",
      "           </div>\n",
      "           <div class=\"gradient_line\">\n",
      "           </div>\n",
      "          </li>\n",
      "          <li>\n",
      "           <div class=\"nav_title\">\n",
      "            <a class=\"main_nav_item\" href=\"/#more\" target=\"_self\">\n",
      "             More\n",
      "            </a>\n",
      "           </div>\n",
      "           <div class=\"gradient_line\">\n",
      "           </div>\n",
      "          </li>\n",
      "          <li>\n",
      "           <div class=\"nav_title\">\n",
      "            <a class=\"main_nav_item\" href=\"/legacy\" target=\"_self\">\n",
      "             Legacy Site\n",
      "            </a>\n",
      "           </div>\n",
      "           <div class=\"gradient_line\">\n",
      "           </div>\n",
      "          </li>\n",
      "         </ul>\n",
      "         <form action=\"https://mars.nasa.gov/search/\" class=\"overlay_search nav_search\">\n",
      "          <label class=\"search_label\">\n",
      "           Search\n",
      "          </label>\n",
      "          <input class=\"search_field\" name=\"q\" type=\"text\" value=\"\"/>\n",
      "          <div class=\"search_submit\">\n",
      "          </div>\n",
      "         </form>\n",
      "        </nav>\n",
      "       </div>\n",
      "      </div>\n",
      "     </header>\n",
      "    </div>\n",
      "    <div id=\"sticky_nav_spacer\">\n",
      "    </div>\n",
      "    <div id=\"page\">\n",
      "     <!-- title to go in the page_header -->\n",
      "     <div class=\"header_mask\">\n",
      "     </div>\n",
      "     <div class=\"react_grid_list\" data-react-class=\"GridListPage\" data-react-props='{\"left_column\":false,\"class_name\":\"\",\"default_view\":\"list_view\",\"model\":\"news_items\",\"view_toggle\":false,\"search\":true,\"list_item\":\"News\",\"title\":\"News\",\"categories\":[\"19,165,184,204\"],\"order\":\"publish_date desc,created_at desc\",\"no_items_text\":\"There are no items matching these criteria.\",\"per_page\":null,\"filters\":\"[ [ \\\"date\\\", [ [ \\\"2018\\\", \\\"2018\\\" ], [ \\\"2017\\\", \\\"2017\\\" ], [ \\\"2016\\\", \\\"2016\\\" ], [ \\\"2015\\\", \\\"2015\\\" ], [ \\\"2014\\\", \\\"2014\\\" ], [ \\\"2013\\\", \\\"2013\\\" ], [ \\\"2012\\\", \\\"2012\\\" ], [ \\\"2011\\\", \\\"2011\\\" ], [ \\\"2010\\\", \\\"2010\\\" ], [ \\\"2009\\\", \\\"2009\\\" ], [ \\\"2008\\\", \\\"2008\\\" ], [ \\\"2007\\\", \\\"2007\\\" ], [ \\\"2006\\\", \\\"2006\\\" ], [ \\\"2005\\\", \\\"2005\\\" ], [ \\\"2004\\\", \\\"2004\\\" ], [ \\\"2003\\\", \\\"2003\\\" ], [ \\\"2002\\\", \\\"2002\\\" ], [ \\\"2001\\\", \\\"2001\\\" ], [ \\\"2000\\\", \\\"2000\\\" ] ], [ \\\"Latest\\\", \\\"\\\" ], false ], [ \\\"categories\\\", [ [ \\\"Feature Stories\\\", 165 ], [ \\\"Press Releases\\\", 19 ], [ \\\"Spotlights\\\", 184 ], [ \\\"Status Reports\\\", 204 ] ], [ \\\"All Categories\\\", \\\"\\\" ], false ] ]\",\"conditions\":null,\"scope_in_title\":true,\"options\":{\"blank_scope\":\"Latest\"},\"results_in_title\":false}'>\n",
      "     </div>\n",
      "     <section class=\"module suggested_features\">\n",
      "      <div class=\"grid_layout\">\n",
      "       <header>\n",
      "        <h2 class=\"module_title\">\n",
      "         You Might Also Like\n",
      "        </h2>\n",
      "       </header>\n",
      "       <section>\n",
      "        <script>\n",
      "         $(document).ready(function(){\n",
      "    $(\".features\").slick({\n",
      "      dots: false,\n",
      "      infinite: true,\n",
      "      speed: 300,\n",
      "      slide: '.features .slide',\n",
      "      slidesToShow: 3,\n",
      "      slidesToScroll: 3,\n",
      "      lazyLoad: 'ondemand',\n",
      "      centerMode: false,\n",
      "      arrows: true,\n",
      "      appendArrows: '.features .slick-nav',\n",
      "      appendDots: \".features .slick-nav\",\n",
      "      responsive: [{\"breakpoint\":953,\"settings\":{\"slidesToShow\":2,\"slidesToScroll\":2,\"centerMode\":false}},{\"breakpoint\":480,\"settings\":{\"slidesToShow\":1,\"slidesToScroll\":1,\"centerMode\":true,\"arrows\":false,\"centerPadding\":\"25px\"}}]\n",
      "    });\n",
      "  });\n",
      "        </script>\n",
      "        <div class=\"features\">\n",
      "         <div class=\"slide\">\n",
      "          <div class=\"image_and_description_container\">\n",
      "           <a href=\"/news/8326/nasa-invests-in-visionary-technology/\">\n",
      "            <div class=\"rollover_description\">\n",
      "             <div class=\"rollover_description_inner\">\n",
      "              NASA is investing in technology concepts, including several from JPL, that may one day be used for future space exploration missions.\n",
      "             </div>\n",
      "             <div class=\"overlay_arrow\">\n",
      "              <img alt=\"More\" src=\"/assets/overlay-arrow.png\"/>\n",
      "             </div>\n",
      "            </div>\n",
      "            <img alt=\"NASA Invests in Visionary Technology \" class=\"img-lazy\" data-lazy=\"/system/news_items/list_view_images/8326_niac320.jpg\" src=\"/assets/loading_320x240.png\"/>\n",
      "           </a>\n",
      "          </div>\n",
      "          <div class=\"content_title\">\n",
      "           <a href=\"/news/8326/nasa-invests-in-visionary-technology/\">\n",
      "            NASA Invests in Visionary Technology\n",
      "           </a>\n",
      "          </div>\n",
      "         </div>\n",
      "         <div class=\"slide\">\n",
      "          <div class=\"image_and_description_container\">\n",
      "           <a href=\"/news/8325/nasa-is-ready-to-study-the-heart-of-mars/\">\n",
      "            <div class=\"rollover_description\">\n",
      "             <div class=\"rollover_description_inner\">\n",
      "              NASA is about to go on a journey to study the center of Mars.\n",
      "             </div>\n",
      "             <div class=\"overlay_arrow\">\n",
      "              <img alt=\"More\" src=\"/assets/overlay-arrow.png\"/>\n",
      "             </div>\n",
      "            </div>\n",
      "            <img alt=\"NASA is Ready to Study the Heart of Mars\" class=\"img-lazy\" data-lazy=\"/system/news_items/list_view_images/8325_insight20180329b_320.jpg\" src=\"/assets/loading_320x240.png\"/>\n",
      "           </a>\n",
      "          </div>\n",
      "          <div class=\"content_title\">\n",
      "           <a href=\"/news/8325/nasa-is-ready-to-study-the-heart-of-mars/\">\n",
      "            NASA is Ready to Study the Heart of Mars\n",
      "           </a>\n",
      "          </div>\n",
      "         </div>\n",
      "         <div class=\"slide\">\n",
      "          <div class=\"image_and_description_container\">\n",
      "           <a href=\"/news/8322/nasa-briefing-on-first-mission-to-study-mars-interior/\">\n",
      "            <div class=\"rollover_description\">\n",
      "             <div class=\"rollover_description_inner\">\n",
      "              NASA’s next mission to Mars will be the topic of a media briefing Thursday, March 29, at JPL. The briefing will air live on NASA Television and the agency’s website.\n",
      "             </div>\n",
      "             <div class=\"overlay_arrow\">\n",
      "              <img alt=\"More\" src=\"/assets/overlay-arrow.png\"/>\n",
      "             </div>\n",
      "            </div>\n",
      "            <img alt=\"NASA Briefing on First Mission to Study Mars Interior\" class=\"img-lazy\" data-lazy=\"/system/news_items/list_view_images/8322_PIA22228_320.jpg\" src=\"/assets/loading_320x240.png\"/>\n",
      "           </a>\n",
      "          </div>\n",
      "          <div class=\"content_title\">\n",
      "           <a href=\"/news/8322/nasa-briefing-on-first-mission-to-study-mars-interior/\">\n",
      "            NASA Briefing on First Mission to Study Mars Interior\n",
      "           </a>\n",
      "          </div>\n",
      "         </div>\n",
      "         <div class=\"slide\">\n",
      "          <div class=\"image_and_description_container\">\n",
      "           <a href=\"/news/8321/new-ar-mobile-app-features-3-d-nasa-spacecraft/\">\n",
      "            <div class=\"rollover_description\">\n",
      "             <div class=\"rollover_description_inner\">\n",
      "              NASA spacecraft travel to far-off destinations in space, but a new mobile app produced by NASA's Jet Propulsion Laboratory, Pasadena, California, brings spacecraft to users.\n",
      "             </div>\n",
      "             <div class=\"overlay_arrow\">\n",
      "              <img alt=\"More\" src=\"/assets/overlay-arrow.png\"/>\n",
      "             </div>\n",
      "            </div>\n",
      "            <img alt=\"New 'AR' Mobile App Features 3-D NASA Spacecraft\" class=\"img-lazy\" data-lazy=\"/system/news_items/list_view_images/8321_list_image.jpg\" src=\"/assets/loading_320x240.png\"/>\n",
      "           </a>\n",
      "          </div>\n",
      "          <div class=\"content_title\">\n",
      "           <a href=\"/news/8321/new-ar-mobile-app-features-3-d-nasa-spacecraft/\">\n",
      "            New 'AR' Mobile App Features 3-D NASA Spacecraft\n",
      "           </a>\n",
      "          </div>\n",
      "         </div>\n",
      "         <div class=\"slide\">\n",
      "          <div class=\"image_and_description_container\">\n",
      "           <a href=\"/news/8317/witness-first-mars-launch-from-west-coast/\">\n",
      "            <div class=\"rollover_description\">\n",
      "             <div class=\"rollover_description_inner\">\n",
      "              NASA invites digital creators to apply for social media credentials to cover the launch of the InSight mission to Mars, May 3-5, at California's Vandenberg Air Force Base.\n",
      "             </div>\n",
      "             <div class=\"overlay_arrow\">\n",
      "              <img alt=\"More\" src=\"/assets/overlay-arrow.png\"/>\n",
      "             </div>\n",
      "            </div>\n",
      "            <img alt=\"Witness First Mars Launch from West Coast\" class=\"img-lazy\" data-lazy=\"/system/news_items/list_view_images/8317_list_image.jpg\" src=\"/assets/loading_320x240.png\"/>\n",
      "           </a>\n",
      "          </div>\n",
      "          <div class=\"content_title\">\n",
      "           <a href=\"/news/8317/witness-first-mars-launch-from-west-coast/\">\n",
      "            Witness First Mars Launch from West Coast\n",
      "           </a>\n",
      "          </div>\n",
      "         </div>\n",
      "         <div class=\"slide\">\n",
      "          <div class=\"image_and_description_container\">\n",
      "           <a href=\"/news/8315/nasa-insight-mission-to-mars-arrives-at-launch-site/\">\n",
      "            <div class=\"rollover_description\">\n",
      "             <div class=\"rollover_description_inner\">\n",
      "              NASA's InSight spacecraft has arrived at Vandenberg Air Force Base in central California to begin final preparations for a launch this May.\n",
      "             </div>\n",
      "             <div class=\"overlay_arrow\">\n",
      "              <img alt=\"More\" src=\"/assets/overlay-arrow.png\"/>\n",
      "             </div>\n",
      "            </div>\n",
      "            <img alt=\"NASA InSight Mission to Mars Arrives at Launch Site\" class=\"img-lazy\" data-lazy=\"/system/news_items/list_view_images/8315_list_image.jpg\" src=\"/assets/loading_320x240.png\"/>\n",
      "           </a>\n",
      "          </div>\n",
      "          <div class=\"content_title\">\n",
      "           <a href=\"/news/8315/nasa-insight-mission-to-mars-arrives-at-launch-site/\">\n",
      "            NASA InSight Mission to Mars Arrives at Launch Site\n",
      "           </a>\n",
      "          </div>\n",
      "         </div>\n",
      "         <div class=\"grid_layout\">\n",
      "          <div class=\"slick-nav_container\">\n",
      "           <div class=\"slick-nav\">\n",
      "           </div>\n",
      "          </div>\n",
      "         </div>\n",
      "        </div>\n",
      "       </section>\n",
      "      </div>\n",
      "     </section>\n",
      "    </div>\n",
      "    <footer id=\"site_footer\">\n",
      "     <div class=\"grid_layout\">\n",
      "      <section class=\"upper_footer\">\n",
      "       <div class=\"share\">\n",
      "        <h2>\n",
      "         Follow the Journey\n",
      "        </h2>\n",
      "        <div class=\"social_icons\">\n",
      "         <!-- AddThis Button BEGIN -->\n",
      "         <div class=\"addthis_toolbox addthis_default_style addthis_32x32_style\">\n",
      "          <a addthis:userid=\"NASABeAMartian\" class=\"addthis_button_twitter_follow icon\">\n",
      "           <img alt=\"twitter\" src=\"/assets/twitter_icon@2x.png\"/>\n",
      "          </a>\n",
      "          <a addthis:userid=\"NASABEAM\" class=\"addthis_button_facebook_follow icon\">\n",
      "           <img alt=\"facebook\" src=\"/assets/facebook_icon@2x.png\"/>\n",
      "          </a>\n",
      "          <a addthis:userid=\"nasa\" class=\"addthis_button_instagram_follow icon\">\n",
      "           <img alt=\"instagram\" src=\"/assets/instagram_icon@2x.png\"/>\n",
      "          </a>\n",
      "          <a addthis:url=\"https://mars.nasa.gov/rss/api/?feed=news&amp;category=all&amp;feedtype=rss\" class=\"addthis_button_rss_follow icon\">\n",
      "           <img alt=\"rss\" src=\"/assets/rss_icon@2x.png\"/>\n",
      "          </a>\n",
      "         </div>\n",
      "         <script>\n",
      "          addthis_loader.init(\"//s7.addthis.com/js/300/addthis_widget.js#pubid=ra-5a690e4c1320e328\", {follow: true})\n",
      "         </script>\n",
      "         <!-- AddThis Button END -->\n",
      "        </div>\n",
      "       </div>\n",
      "       <div class=\"gradient_line\">\n",
      "       </div>\n",
      "      </section>\n",
      "      <section class=\"sitemap\">\n",
      "       <div class=\"sitemap_directory\" id=\"sitemap_directory\">\n",
      "        <div class=\"sitemap_block\">\n",
      "         <div class=\"footer_sitemap_item\">\n",
      "          <h3 class=\"sitemap_title\">\n",
      "           <a href=\"/#red_planet\">\n",
      "            The Red Planet\n",
      "           </a>\n",
      "          </h3>\n",
      "          <ul>\n",
      "           <li>\n",
      "            <div class=\"global_subnav_container\">\n",
      "             <ul class=\"subnav\">\n",
      "              <li>\n",
      "               <a href=\"/#red_planet/0\" target=\"_self\">\n",
      "                Dashboard\n",
      "               </a>\n",
      "              </li>\n",
      "              <li>\n",
      "               <a href=\"/#red_planet/1\" target=\"_self\">\n",
      "                Science Goals\n",
      "               </a>\n",
      "              </li>\n",
      "              <li>\n",
      "               <a href=\"/#red_planet/2\" target=\"_self\">\n",
      "                The Planet\n",
      "               </a>\n",
      "              </li>\n",
      "              <li>\n",
      "               <a href=\"/#red_planet/3\" target=\"_self\">\n",
      "                Atmosphere\n",
      "               </a>\n",
      "              </li>\n",
      "              <li>\n",
      "               <a href=\"/#red_planet/4\" target=\"_self\">\n",
      "                Astrobiology\n",
      "               </a>\n",
      "              </li>\n",
      "              <li>\n",
      "               <a href=\"/#red_planet/5\" target=\"_self\">\n",
      "                Past, Present, Future, Timeline\n",
      "               </a>\n",
      "              </li>\n",
      "             </ul>\n",
      "            </div>\n",
      "           </li>\n",
      "          </ul>\n",
      "         </div>\n",
      "        </div>\n",
      "        <div class=\"sitemap_block\">\n",
      "         <div class=\"footer_sitemap_item\">\n",
      "          <h3 class=\"sitemap_title\">\n",
      "           <a href=\"/#mars_exploration_program\">\n",
      "            The Program\n",
      "           </a>\n",
      "          </h3>\n",
      "          <ul>\n",
      "           <li>\n",
      "            <div class=\"global_subnav_container\">\n",
      "             <ul class=\"subnav\">\n",
      "              <li>\n",
      "               <a href=\"/#mars_exploration_program/0\" target=\"_self\">\n",
      "                Mission Statement\n",
      "               </a>\n",
      "              </li>\n",
      "              <li>\n",
      "               <a href=\"/#mars_exploration_program/1\" target=\"_self\">\n",
      "                About the Program\n",
      "               </a>\n",
      "              </li>\n",
      "              <li>\n",
      "               <a href=\"/#mars_exploration_program/2\" target=\"_self\">\n",
      "                Organization\n",
      "               </a>\n",
      "              </li>\n",
      "              <li>\n",
      "               <a href=\"/#mars_exploration_program/3\" target=\"_self\">\n",
      "                Why Mars?\n",
      "               </a>\n",
      "              </li>\n",
      "              <li>\n",
      "               <a href=\"/#mars_exploration_program/4\" target=\"_self\">\n",
      "                Research Programs\n",
      "               </a>\n",
      "              </li>\n",
      "              <li>\n",
      "               <a href=\"/#mars_exploration_program/5\" target=\"_self\">\n",
      "                Planetary Resources\n",
      "               </a>\n",
      "              </li>\n",
      "              <li>\n",
      "               <a href=\"/#mars_exploration_program/6\" target=\"_self\">\n",
      "                Technologies\n",
      "               </a>\n",
      "              </li>\n",
      "             </ul>\n",
      "            </div>\n",
      "           </li>\n",
      "          </ul>\n",
      "         </div>\n",
      "        </div>\n",
      "        <div class=\"sitemap_block\">\n",
      "         <div class=\"footer_sitemap_item\">\n",
      "          <h3 class=\"sitemap_title\">\n",
      "           <a href=\"/#news_and_events\">\n",
      "            News &amp; Events\n",
      "           </a>\n",
      "          </h3>\n",
      "          <ul>\n",
      "           <li>\n",
      "            <div class=\"global_subnav_container\">\n",
      "             <ul class=\"subnav\">\n",
      "              <li class=\"current\">\n",
      "               <a href=\"/news\" target=\"_self\">\n",
      "                News\n",
      "               </a>\n",
      "              </li>\n",
      "              <li>\n",
      "               <a href=\"/events\" target=\"_self\">\n",
      "                Events\n",
      "               </a>\n",
      "              </li>\n",
      "             </ul>\n",
      "            </div>\n",
      "           </li>\n",
      "          </ul>\n",
      "         </div>\n",
      "        </div>\n",
      "        <div class=\"sitemap_block\">\n",
      "         <div class=\"footer_sitemap_item\">\n",
      "          <h3 class=\"sitemap_title\">\n",
      "           <a href=\"/#multimedia\">\n",
      "            Multimedia\n",
      "           </a>\n",
      "          </h3>\n",
      "          <ul>\n",
      "           <li>\n",
      "            <div class=\"global_subnav_container\">\n",
      "             <ul class=\"subnav\">\n",
      "              <li>\n",
      "               <a href=\"/multimedia/images/\" target=\"_self\">\n",
      "                Images\n",
      "               </a>\n",
      "              </li>\n",
      "              <li>\n",
      "               <a href=\"/multimedia/videos/\" target=\"_self\">\n",
      "                Videos\n",
      "               </a>\n",
      "              </li>\n",
      "             </ul>\n",
      "            </div>\n",
      "           </li>\n",
      "          </ul>\n",
      "         </div>\n",
      "        </div>\n",
      "        <div class=\"sitemap_block\">\n",
      "         <div class=\"footer_sitemap_item\">\n",
      "          <h3 class=\"sitemap_title\">\n",
      "           <a href=\"/#missions\">\n",
      "            Missions\n",
      "           </a>\n",
      "          </h3>\n",
      "          <ul>\n",
      "           <li>\n",
      "            <div class=\"global_subnav_container\">\n",
      "             <ul class=\"subnav\">\n",
      "              <li>\n",
      "               <a href=\"/mars-exploration/missions/?category=167\" target=\"_self\">\n",
      "                Past\n",
      "               </a>\n",
      "              </li>\n",
      "              <li>\n",
      "               <a href=\"/mars-exploration/missions/?category=170\" target=\"_self\">\n",
      "                Present\n",
      "               </a>\n",
      "              </li>\n",
      "              <li>\n",
      "               <a href=\"/mars-exploration/missions/?category=171\" target=\"_self\">\n",
      "                Future\n",
      "               </a>\n",
      "              </li>\n",
      "              <li>\n",
      "               <a href=\"/mars-exploration/partners\" target=\"_self\">\n",
      "                International Partners\n",
      "               </a>\n",
      "              </li>\n",
      "             </ul>\n",
      "            </div>\n",
      "           </li>\n",
      "          </ul>\n",
      "         </div>\n",
      "        </div>\n",
      "        <div class=\"sitemap_block\">\n",
      "         <div class=\"footer_sitemap_item\">\n",
      "          <h3 class=\"sitemap_title\">\n",
      "           <a href=\"/#more\">\n",
      "            More\n",
      "           </a>\n",
      "          </h3>\n",
      "          <ul>\n",
      "           <li>\n",
      "            <div class=\"global_subnav_container\">\n",
      "             <ul class=\"subnav\">\n",
      "             </ul>\n",
      "            </div>\n",
      "           </li>\n",
      "          </ul>\n",
      "         </div>\n",
      "        </div>\n",
      "        <div class=\"sitemap_block\">\n",
      "         <div class=\"footer_sitemap_item\">\n",
      "          <h3 class=\"sitemap_title\">\n",
      "           <a href=\"/legacy\">\n",
      "            Legacy Site\n",
      "           </a>\n",
      "          </h3>\n",
      "          <ul>\n",
      "           <li>\n",
      "            <div class=\"global_subnav_container\">\n",
      "             <ul class=\"subnav\">\n",
      "              <li>\n",
      "               <a class=\"\" href=\"/legacy\" target=\"_self\">\n",
      "                Legacy Site\n",
      "               </a>\n",
      "              </li>\n",
      "             </ul>\n",
      "            </div>\n",
      "           </li>\n",
      "          </ul>\n",
      "         </div>\n",
      "        </div>\n",
      "       </div>\n",
      "       <div class=\"gradient_line\">\n",
      "       </div>\n",
      "      </section>\n",
      "      <section class=\"lower_footer\">\n",
      "       <div class=\"nav_container\">\n",
      "        <nav>\n",
      "         <ul>\n",
      "          <li>\n",
      "           <a href=\"http://science.nasa.gov/\" target=\"_blank\">\n",
      "            NASA Science Mission Directorate\n",
      "           </a>\n",
      "          </li>\n",
      "          <li>\n",
      "           <a href=\"https://www.jpl.nasa.gov/copyrights.php\" target=\"_blank\">\n",
      "            Privacy\n",
      "           </a>\n",
      "          </li>\n",
      "          <li>\n",
      "           <a href=\"http://www.jpl.nasa.gov/imagepolicy/\" target=\"_blank\">\n",
      "            Image Policy\n",
      "           </a>\n",
      "          </li>\n",
      "          <li>\n",
      "           <a href=\"https://mars.nasa.gov/feedback/\" target=\"_self\">\n",
      "            Feedback\n",
      "           </a>\n",
      "          </li>\n",
      "          <li>\n",
      "           <a href=\"http://mars.nasa.gov/legacy\" target=\"_blank\">\n",
      "            Legacy Mars Site\n",
      "           </a>\n",
      "          </li>\n",
      "         </ul>\n",
      "        </nav>\n",
      "       </div>\n",
      "       <div class=\"credits\">\n",
      "        <div class=\"footer_brands_top\">\n",
      "         <p>\n",
      "          Managed by the Mars Exploration Program and the Jet Propulsion Laboratory for NASA’s Science Mission Directorate\n",
      "         </p>\n",
      "        </div>\n",
      "        <!-- .footer_brands -->\n",
      "        <!-- %a.jpl{href: \"\", target: \"_blank\"}Institution -->\n",
      "        <!-- -->\n",
      "        <!-- %a.caltech{href: \"\", target: \"_blank\"}Institution -->\n",
      "        <!-- .staff -->\n",
      "        <!-- %p -->\n",
      "        <!-- - get_staff_for_category(get_field_from_admin_config(:web_staff_category_id)) -->\n",
      "        <!-- - @staff.each_with_index do |staff, idx| -->\n",
      "        <!-- - unless staff.is_in_footer == 0 -->\n",
      "        <!-- = staff.title + \": \" -->\n",
      "        <!-- - if staff.contact_link =~ /@/ -->\n",
      "        <!-- = mail_to staff.contact_link, staff.name, :subject => \"[#{@site_title}]\" -->\n",
      "        <!-- - elsif staff.contact_link.present? -->\n",
      "        <!-- = link_to staff.name, staff.contact_link -->\n",
      "        <!-- - else -->\n",
      "        <!-- = staff.name -->\n",
      "        <!-- - unless (idx + 1 == @staff.size) -->\n",
      "        <!-- %br -->\n",
      "       </div>\n",
      "      </section>\n",
      "     </div>\n",
      "    </footer>\n",
      "   </div>\n",
      "  </div>\n",
      "  <script id=\"_fed_an_ua_tag\" src=\"https://dap.digitalgov.gov/Universal-Federated-Analytics-Min.js?agency=NASA&amp;subagency=JPL-Mars-MEPJPL&amp;pua=UA-9453474-9,UA-118212757-11&amp;dclink=true&amp;sp=searchbox&amp;exts=tif,tiff,wav\" type=\"text/javascript\">\n",
      "  </script>\n",
      " </body>\n",
      "</html>\n",
      "\n"
     ]
    }
   ],
   "source": [
    "# Examine the results, then determine element that contains sought info\n",
    "print(soup.prettify())"
   ]
  },
  {
   "cell_type": "code",
   "execution_count": null,
   "metadata": {
    "collapsed": true
   },
   "outputs": [],
   "source": [
    "# results are returned as an iterable list\n",
    "results = soup.find_all('li', class_=\"content_title\")"
   ]
  },
  {
   "cell_type": "code",
   "execution_count": null,
   "metadata": {
    "collapsed": true
   },
   "outputs": [],
   "source": []
  },
  {
   "cell_type": "code",
   "execution_count": null,
   "metadata": {
    "collapsed": true
   },
   "outputs": [],
   "source": []
  },
  {
   "cell_type": "code",
   "execution_count": null,
   "metadata": {
    "collapsed": true
   },
   "outputs": [],
   "source": []
  },
  {
   "cell_type": "code",
   "execution_count": null,
   "metadata": {
    "collapsed": true
   },
   "outputs": [],
   "source": []
  },
  {
   "cell_type": "code",
   "execution_count": null,
   "metadata": {
    "collapsed": true
   },
   "outputs": [],
   "source": []
  },
  {
   "cell_type": "code",
   "execution_count": 4,
   "metadata": {
    "collapsed": true,
    "slideshow": {
     "slide_type": "slide"
    }
   },
   "outputs": [],
   "source": [
    "import pandas as pd"
   ]
  },
  {
   "cell_type": "code",
   "execution_count": null,
   "metadata": {
    "collapsed": true
   },
   "outputs": [],
   "source": []
  },
  {
   "cell_type": "markdown",
   "metadata": {
    "slideshow": {
     "slide_type": "subslide"
    }
   },
   "source": [
    "We can use the `read_html` function in Pandas to automatically scrape any tabular data from a page."
   ]
  },
  {
   "cell_type": "code",
   "execution_count": 5,
   "metadata": {
    "collapsed": true,
    "slideshow": {
     "slide_type": "fragment"
    }
   },
   "outputs": [],
   "source": [
    "url = 'https://mars.nasa.gov/news/'"
   ]
  },
  {
   "cell_type": "code",
   "execution_count": 6,
   "metadata": {
    "slideshow": {
     "slide_type": "fragment"
    }
   },
   "outputs": [
    {
     "ename": "ValueError",
     "evalue": "No tables found",
     "output_type": "error",
     "traceback": [
      "\u001b[1;31m---------------------------------------------------------------------------\u001b[0m",
      "\u001b[1;31mValueError\u001b[0m                                Traceback (most recent call last)",
      "\u001b[1;32m<ipython-input-6-98b7feb79201>\u001b[0m in \u001b[0;36m<module>\u001b[1;34m()\u001b[0m\n\u001b[1;32m----> 1\u001b[1;33m \u001b[0mtables\u001b[0m \u001b[1;33m=\u001b[0m \u001b[0mpd\u001b[0m\u001b[1;33m.\u001b[0m\u001b[0mread_html\u001b[0m\u001b[1;33m(\u001b[0m\u001b[0murl\u001b[0m\u001b[1;33m)\u001b[0m\u001b[1;33m\u001b[0m\u001b[0m\n\u001b[0m\u001b[0;32m      2\u001b[0m \u001b[0mtables\u001b[0m\u001b[1;33m\u001b[0m\u001b[0m\n",
      "\u001b[1;32m~\\AnacondaJRE\\lib\\site-packages\\pandas\\io\\html.py\u001b[0m in \u001b[0;36mread_html\u001b[1;34m(io, match, flavor, header, index_col, skiprows, attrs, parse_dates, tupleize_cols, thousands, encoding, decimal, converters, na_values, keep_default_na)\u001b[0m\n\u001b[0;32m    904\u001b[0m                   \u001b[0mthousands\u001b[0m\u001b[1;33m=\u001b[0m\u001b[0mthousands\u001b[0m\u001b[1;33m,\u001b[0m \u001b[0mattrs\u001b[0m\u001b[1;33m=\u001b[0m\u001b[0mattrs\u001b[0m\u001b[1;33m,\u001b[0m \u001b[0mencoding\u001b[0m\u001b[1;33m=\u001b[0m\u001b[0mencoding\u001b[0m\u001b[1;33m,\u001b[0m\u001b[1;33m\u001b[0m\u001b[0m\n\u001b[0;32m    905\u001b[0m                   \u001b[0mdecimal\u001b[0m\u001b[1;33m=\u001b[0m\u001b[0mdecimal\u001b[0m\u001b[1;33m,\u001b[0m \u001b[0mconverters\u001b[0m\u001b[1;33m=\u001b[0m\u001b[0mconverters\u001b[0m\u001b[1;33m,\u001b[0m \u001b[0mna_values\u001b[0m\u001b[1;33m=\u001b[0m\u001b[0mna_values\u001b[0m\u001b[1;33m,\u001b[0m\u001b[1;33m\u001b[0m\u001b[0m\n\u001b[1;32m--> 906\u001b[1;33m                   keep_default_na=keep_default_na)\n\u001b[0m",
      "\u001b[1;32m~\\AnacondaJRE\\lib\\site-packages\\pandas\\io\\html.py\u001b[0m in \u001b[0;36m_parse\u001b[1;34m(flavor, io, match, attrs, encoding, **kwargs)\u001b[0m\n\u001b[0;32m    741\u001b[0m             \u001b[1;32mbreak\u001b[0m\u001b[1;33m\u001b[0m\u001b[0m\n\u001b[0;32m    742\u001b[0m     \u001b[1;32melse\u001b[0m\u001b[1;33m:\u001b[0m\u001b[1;33m\u001b[0m\u001b[0m\n\u001b[1;32m--> 743\u001b[1;33m         \u001b[0mraise_with_traceback\u001b[0m\u001b[1;33m(\u001b[0m\u001b[0mretained\u001b[0m\u001b[1;33m)\u001b[0m\u001b[1;33m\u001b[0m\u001b[0m\n\u001b[0m\u001b[0;32m    744\u001b[0m \u001b[1;33m\u001b[0m\u001b[0m\n\u001b[0;32m    745\u001b[0m     \u001b[0mret\u001b[0m \u001b[1;33m=\u001b[0m \u001b[1;33m[\u001b[0m\u001b[1;33m]\u001b[0m\u001b[1;33m\u001b[0m\u001b[0m\n",
      "\u001b[1;32m~\\AnacondaJRE\\lib\\site-packages\\pandas\\compat\\__init__.py\u001b[0m in \u001b[0;36mraise_with_traceback\u001b[1;34m(exc, traceback)\u001b[0m\n\u001b[0;32m    342\u001b[0m         \u001b[1;32mif\u001b[0m \u001b[0mtraceback\u001b[0m \u001b[1;33m==\u001b[0m \u001b[0mEllipsis\u001b[0m\u001b[1;33m:\u001b[0m\u001b[1;33m\u001b[0m\u001b[0m\n\u001b[0;32m    343\u001b[0m             \u001b[0m_\u001b[0m\u001b[1;33m,\u001b[0m \u001b[0m_\u001b[0m\u001b[1;33m,\u001b[0m \u001b[0mtraceback\u001b[0m \u001b[1;33m=\u001b[0m \u001b[0msys\u001b[0m\u001b[1;33m.\u001b[0m\u001b[0mexc_info\u001b[0m\u001b[1;33m(\u001b[0m\u001b[1;33m)\u001b[0m\u001b[1;33m\u001b[0m\u001b[0m\n\u001b[1;32m--> 344\u001b[1;33m         \u001b[1;32mraise\u001b[0m \u001b[0mexc\u001b[0m\u001b[1;33m.\u001b[0m\u001b[0mwith_traceback\u001b[0m\u001b[1;33m(\u001b[0m\u001b[0mtraceback\u001b[0m\u001b[1;33m)\u001b[0m\u001b[1;33m\u001b[0m\u001b[0m\n\u001b[0m\u001b[0;32m    345\u001b[0m \u001b[1;32melse\u001b[0m\u001b[1;33m:\u001b[0m\u001b[1;33m\u001b[0m\u001b[0m\n\u001b[0;32m    346\u001b[0m     \u001b[1;31m# this version of raise is a syntax error in Python 3\u001b[0m\u001b[1;33m\u001b[0m\u001b[1;33m\u001b[0m\u001b[0m\n",
      "\u001b[1;31mValueError\u001b[0m: No tables found"
     ]
    }
   ],
   "source": [
    "tables = pd.read_html(url)\n",
    "tables"
   ]
  },
  {
   "cell_type": "markdown",
   "metadata": {
    "slideshow": {
     "slide_type": "subslide"
    }
   },
   "source": [
    "What we get in return is a list of dataframes for any tabular data that Pandas found."
   ]
  },
  {
   "cell_type": "code",
   "execution_count": 4,
   "metadata": {
    "slideshow": {
     "slide_type": "fragment"
    }
   },
   "outputs": [
    {
     "data": {
      "text/plain": [
       "list"
      ]
     },
     "execution_count": 4,
     "metadata": {},
     "output_type": "execute_result"
    }
   ],
   "source": [
    "type(tables[0]) #just the first tqble"
   ]
  },
  {
   "cell_type": "markdown",
   "metadata": {
    "slideshow": {
     "slide_type": "subslide"
    }
   },
   "source": [
    "We can slice off any of those dataframes that we want using normal indexing."
   ]
  },
  {
   "cell_type": "code",
   "execution_count": 6,
   "metadata": {
    "slideshow": {
     "slide_type": "fragment"
    }
   },
   "outputs": [
    {
     "data": {
      "text/html": [
       "<div>\n",
       "<style>\n",
       "    .dataframe thead tr:only-child th {\n",
       "        text-align: right;\n",
       "    }\n",
       "\n",
       "    .dataframe thead th {\n",
       "        text-align: left;\n",
       "    }\n",
       "\n",
       "    .dataframe tbody tr th {\n",
       "        vertical-align: top;\n",
       "    }\n",
       "</style>\n",
       "<table border=\"1\" class=\"dataframe\">\n",
       "  <thead>\n",
       "    <tr style=\"text-align: right;\">\n",
       "      <th></th>\n",
       "      <th>State</th>\n",
       "      <th>Abr.</th>\n",
       "      <th>State-hood Rank</th>\n",
       "      <th>Capital</th>\n",
       "      <th>Capital Since</th>\n",
       "      <th>Area (sq-mi)</th>\n",
       "      <th>Municipal Population</th>\n",
       "      <th>Metropolitan Population</th>\n",
       "      <th>Population Rank In State</th>\n",
       "      <th>Population Rank in US</th>\n",
       "      <th>Notes</th>\n",
       "    </tr>\n",
       "  </thead>\n",
       "  <tbody>\n",
       "    <tr>\n",
       "      <th>0</th>\n",
       "      <td>State</td>\n",
       "      <td>Abr.</td>\n",
       "      <td>State-hood</td>\n",
       "      <td>Capital</td>\n",
       "      <td>Capital since</td>\n",
       "      <td>Area (mi²)</td>\n",
       "      <td>Population (2010)</td>\n",
       "      <td>Notes</td>\n",
       "      <td>NaN</td>\n",
       "      <td>NaN</td>\n",
       "      <td>NaN</td>\n",
       "    </tr>\n",
       "    <tr>\n",
       "      <th>1</th>\n",
       "      <td>Municipal (Within city proper boundaries)</td>\n",
       "      <td>Metropolitan (Both within the capital city pro...</td>\n",
       "      <td>Rank in state</td>\n",
       "      <td>Rank in US</td>\n",
       "      <td>NaN</td>\n",
       "      <td>NaN</td>\n",
       "      <td>NaN</td>\n",
       "      <td>NaN</td>\n",
       "      <td>NaN</td>\n",
       "      <td>NaN</td>\n",
       "      <td>NaN</td>\n",
       "    </tr>\n",
       "    <tr>\n",
       "      <th>2</th>\n",
       "      <td>Alabama</td>\n",
       "      <td>AL</td>\n",
       "      <td>1819</td>\n",
       "      <td>Montgomery</td>\n",
       "      <td>1846</td>\n",
       "      <td>155.4</td>\n",
       "      <td>205764</td>\n",
       "      <td>374536</td>\n",
       "      <td>2.0</td>\n",
       "      <td>115.0</td>\n",
       "      <td>Birmingham is the state's largest city.</td>\n",
       "    </tr>\n",
       "    <tr>\n",
       "      <th>3</th>\n",
       "      <td>Alaska</td>\n",
       "      <td>AK</td>\n",
       "      <td>1959</td>\n",
       "      <td>Juneau</td>\n",
       "      <td>1906</td>\n",
       "      <td>2716.7</td>\n",
       "      <td>31275</td>\n",
       "      <td>NaN</td>\n",
       "      <td>3.0</td>\n",
       "      <td>NaN</td>\n",
       "      <td>Largest capital by municipal land area. Anchor...</td>\n",
       "    </tr>\n",
       "    <tr>\n",
       "      <th>4</th>\n",
       "      <td>Arizona</td>\n",
       "      <td>AZ</td>\n",
       "      <td>1912</td>\n",
       "      <td>Phoenix</td>\n",
       "      <td>1889</td>\n",
       "      <td>474.9</td>\n",
       "      <td>1445632</td>\n",
       "      <td>4192887</td>\n",
       "      <td>1.0</td>\n",
       "      <td>5.0</td>\n",
       "      <td>Most populous U.S. state capital and the only ...</td>\n",
       "    </tr>\n",
       "  </tbody>\n",
       "</table>\n",
       "</div>"
      ],
      "text/plain": [
       "                                       State  \\\n",
       "0                                      State   \n",
       "1  Municipal (Within city proper boundaries)   \n",
       "2                                    Alabama   \n",
       "3                                     Alaska   \n",
       "4                                    Arizona   \n",
       "\n",
       "                                                Abr. State-hood Rank  \\\n",
       "0                                               Abr.      State-hood   \n",
       "1  Metropolitan (Both within the capital city pro...   Rank in state   \n",
       "2                                                 AL            1819   \n",
       "3                                                 AK            1959   \n",
       "4                                                 AZ            1912   \n",
       "\n",
       "      Capital  Capital Since Area (sq-mi) Municipal Population  \\\n",
       "0     Capital  Capital since   Area (mi²)    Population (2010)   \n",
       "1  Rank in US            NaN          NaN                  NaN   \n",
       "2  Montgomery           1846        155.4               205764   \n",
       "3      Juneau           1906       2716.7                31275   \n",
       "4     Phoenix           1889        474.9              1445632   \n",
       "\n",
       "  Metropolitan Population  Population Rank In State  Population Rank in US  \\\n",
       "0                   Notes                       NaN                    NaN   \n",
       "1                     NaN                       NaN                    NaN   \n",
       "2                  374536                       2.0                  115.0   \n",
       "3                     NaN                       3.0                    NaN   \n",
       "4                 4192887                       1.0                    5.0   \n",
       "\n",
       "                                               Notes  \n",
       "0                                                NaN  \n",
       "1                                                NaN  \n",
       "2            Birmingham is the state's largest city.  \n",
       "3  Largest capital by municipal land area. Anchor...  \n",
       "4  Most populous U.S. state capital and the only ...  "
      ]
     },
     "execution_count": 6,
     "metadata": {},
     "output_type": "execute_result"
    }
   ],
   "source": [
    "df = tables[0]\n",
    "df.columns = ['State', 'Abr.', 'State-hood Rank', 'Capital', \n",
    "              'Capital Since', 'Area (sq-mi)', 'Municipal Population', \n",
    "              'Metropolitan Population', 'Population Rank In State', 'Population Rank in US', 'Notes']\n",
    "df.head()"
   ]
  },
  {
   "cell_type": "markdown",
   "metadata": {
    "slideshow": {
     "slide_type": "subslide"
    }
   },
   "source": [
    "Cleanup of extra rows"
   ]
  },
  {
   "cell_type": "code",
   "execution_count": 7,
   "metadata": {
    "slideshow": {
     "slide_type": "fragment"
    }
   },
   "outputs": [
    {
     "data": {
      "text/html": [
       "<div>\n",
       "<style>\n",
       "    .dataframe thead tr:only-child th {\n",
       "        text-align: right;\n",
       "    }\n",
       "\n",
       "    .dataframe thead th {\n",
       "        text-align: left;\n",
       "    }\n",
       "\n",
       "    .dataframe tbody tr th {\n",
       "        vertical-align: top;\n",
       "    }\n",
       "</style>\n",
       "<table border=\"1\" class=\"dataframe\">\n",
       "  <thead>\n",
       "    <tr style=\"text-align: right;\">\n",
       "      <th></th>\n",
       "      <th>State</th>\n",
       "      <th>Abr.</th>\n",
       "      <th>State-hood Rank</th>\n",
       "      <th>Capital</th>\n",
       "      <th>Capital Since</th>\n",
       "      <th>Area (sq-mi)</th>\n",
       "      <th>Municipal Population</th>\n",
       "      <th>Metropolitan Population</th>\n",
       "      <th>Population Rank In State</th>\n",
       "      <th>Population Rank in US</th>\n",
       "      <th>Notes</th>\n",
       "    </tr>\n",
       "  </thead>\n",
       "  <tbody>\n",
       "    <tr>\n",
       "      <th>2</th>\n",
       "      <td>Alabama</td>\n",
       "      <td>AL</td>\n",
       "      <td>1819</td>\n",
       "      <td>Montgomery</td>\n",
       "      <td>1846</td>\n",
       "      <td>155.4</td>\n",
       "      <td>205764</td>\n",
       "      <td>374536</td>\n",
       "      <td>2.0</td>\n",
       "      <td>115.0</td>\n",
       "      <td>Birmingham is the state's largest city.</td>\n",
       "    </tr>\n",
       "    <tr>\n",
       "      <th>3</th>\n",
       "      <td>Alaska</td>\n",
       "      <td>AK</td>\n",
       "      <td>1959</td>\n",
       "      <td>Juneau</td>\n",
       "      <td>1906</td>\n",
       "      <td>2716.7</td>\n",
       "      <td>31275</td>\n",
       "      <td>NaN</td>\n",
       "      <td>3.0</td>\n",
       "      <td>NaN</td>\n",
       "      <td>Largest capital by municipal land area. Anchor...</td>\n",
       "    </tr>\n",
       "    <tr>\n",
       "      <th>4</th>\n",
       "      <td>Arizona</td>\n",
       "      <td>AZ</td>\n",
       "      <td>1912</td>\n",
       "      <td>Phoenix</td>\n",
       "      <td>1889</td>\n",
       "      <td>474.9</td>\n",
       "      <td>1445632</td>\n",
       "      <td>4192887</td>\n",
       "      <td>1.0</td>\n",
       "      <td>5.0</td>\n",
       "      <td>Most populous U.S. state capital and the only ...</td>\n",
       "    </tr>\n",
       "    <tr>\n",
       "      <th>5</th>\n",
       "      <td>Arkansas</td>\n",
       "      <td>AR</td>\n",
       "      <td>1836</td>\n",
       "      <td>Little Rock</td>\n",
       "      <td>1821</td>\n",
       "      <td>116.2</td>\n",
       "      <td>193524</td>\n",
       "      <td>877091</td>\n",
       "      <td>1.0</td>\n",
       "      <td>117.0</td>\n",
       "      <td>NaN</td>\n",
       "    </tr>\n",
       "    <tr>\n",
       "      <th>6</th>\n",
       "      <td>California</td>\n",
       "      <td>CA</td>\n",
       "      <td>1850</td>\n",
       "      <td>Sacramento</td>\n",
       "      <td>1854</td>\n",
       "      <td>97.2</td>\n",
       "      <td>466488</td>\n",
       "      <td>2527123</td>\n",
       "      <td>6.0</td>\n",
       "      <td>35.0</td>\n",
       "      <td>Supreme Court of California is headquartered i...</td>\n",
       "    </tr>\n",
       "  </tbody>\n",
       "</table>\n",
       "</div>"
      ],
      "text/plain": [
       "        State Abr. State-hood Rank      Capital Capital Since Area (sq-mi)  \\\n",
       "2     Alabama   AL            1819   Montgomery          1846        155.4   \n",
       "3      Alaska   AK            1959       Juneau          1906       2716.7   \n",
       "4     Arizona   AZ            1912      Phoenix          1889        474.9   \n",
       "5    Arkansas   AR            1836  Little Rock          1821        116.2   \n",
       "6  California   CA            1850   Sacramento          1854         97.2   \n",
       "\n",
       "  Municipal Population Metropolitan Population  Population Rank In State  \\\n",
       "2               205764                  374536                       2.0   \n",
       "3                31275                     NaN                       3.0   \n",
       "4              1445632                 4192887                       1.0   \n",
       "5               193524                  877091                       1.0   \n",
       "6               466488                 2527123                       6.0   \n",
       "\n",
       "   Population Rank in US                                              Notes  \n",
       "2                  115.0            Birmingham is the state's largest city.  \n",
       "3                    NaN  Largest capital by municipal land area. Anchor...  \n",
       "4                    5.0  Most populous U.S. state capital and the only ...  \n",
       "5                  117.0                                                NaN  \n",
       "6                   35.0  Supreme Court of California is headquartered i...  "
      ]
     },
     "execution_count": 7,
     "metadata": {},
     "output_type": "execute_result"
    }
   ],
   "source": [
    "df = df.iloc[2:]\n",
    "df.head()"
   ]
  },
  {
   "cell_type": "markdown",
   "metadata": {
    "slideshow": {
     "slide_type": "subslide"
    }
   },
   "source": [
    "Set the index to the `State` column"
   ]
  },
  {
   "cell_type": "code",
   "execution_count": 8,
   "metadata": {
    "slideshow": {
     "slide_type": "fragment"
    }
   },
   "outputs": [
    {
     "data": {
      "text/html": [
       "<div>\n",
       "<style>\n",
       "    .dataframe thead tr:only-child th {\n",
       "        text-align: right;\n",
       "    }\n",
       "\n",
       "    .dataframe thead th {\n",
       "        text-align: left;\n",
       "    }\n",
       "\n",
       "    .dataframe tbody tr th {\n",
       "        vertical-align: top;\n",
       "    }\n",
       "</style>\n",
       "<table border=\"1\" class=\"dataframe\">\n",
       "  <thead>\n",
       "    <tr style=\"text-align: right;\">\n",
       "      <th></th>\n",
       "      <th>Abr.</th>\n",
       "      <th>State-hood Rank</th>\n",
       "      <th>Capital</th>\n",
       "      <th>Capital Since</th>\n",
       "      <th>Area (sq-mi)</th>\n",
       "      <th>Municipal Population</th>\n",
       "      <th>Metropolitan Population</th>\n",
       "      <th>Population Rank In State</th>\n",
       "      <th>Population Rank in US</th>\n",
       "      <th>Notes</th>\n",
       "    </tr>\n",
       "    <tr>\n",
       "      <th>State</th>\n",
       "      <th></th>\n",
       "      <th></th>\n",
       "      <th></th>\n",
       "      <th></th>\n",
       "      <th></th>\n",
       "      <th></th>\n",
       "      <th></th>\n",
       "      <th></th>\n",
       "      <th></th>\n",
       "      <th></th>\n",
       "    </tr>\n",
       "  </thead>\n",
       "  <tbody>\n",
       "    <tr>\n",
       "      <th>Alabama</th>\n",
       "      <td>AL</td>\n",
       "      <td>1819</td>\n",
       "      <td>Montgomery</td>\n",
       "      <td>1846</td>\n",
       "      <td>155.4</td>\n",
       "      <td>205764</td>\n",
       "      <td>374536</td>\n",
       "      <td>2.0</td>\n",
       "      <td>115.0</td>\n",
       "      <td>Birmingham is the state's largest city.</td>\n",
       "    </tr>\n",
       "    <tr>\n",
       "      <th>Alaska</th>\n",
       "      <td>AK</td>\n",
       "      <td>1959</td>\n",
       "      <td>Juneau</td>\n",
       "      <td>1906</td>\n",
       "      <td>2716.7</td>\n",
       "      <td>31275</td>\n",
       "      <td>NaN</td>\n",
       "      <td>3.0</td>\n",
       "      <td>NaN</td>\n",
       "      <td>Largest capital by municipal land area. Anchor...</td>\n",
       "    </tr>\n",
       "    <tr>\n",
       "      <th>Arizona</th>\n",
       "      <td>AZ</td>\n",
       "      <td>1912</td>\n",
       "      <td>Phoenix</td>\n",
       "      <td>1889</td>\n",
       "      <td>474.9</td>\n",
       "      <td>1445632</td>\n",
       "      <td>4192887</td>\n",
       "      <td>1.0</td>\n",
       "      <td>5.0</td>\n",
       "      <td>Most populous U.S. state capital and the only ...</td>\n",
       "    </tr>\n",
       "    <tr>\n",
       "      <th>Arkansas</th>\n",
       "      <td>AR</td>\n",
       "      <td>1836</td>\n",
       "      <td>Little Rock</td>\n",
       "      <td>1821</td>\n",
       "      <td>116.2</td>\n",
       "      <td>193524</td>\n",
       "      <td>877091</td>\n",
       "      <td>1.0</td>\n",
       "      <td>117.0</td>\n",
       "      <td>NaN</td>\n",
       "    </tr>\n",
       "    <tr>\n",
       "      <th>California</th>\n",
       "      <td>CA</td>\n",
       "      <td>1850</td>\n",
       "      <td>Sacramento</td>\n",
       "      <td>1854</td>\n",
       "      <td>97.2</td>\n",
       "      <td>466488</td>\n",
       "      <td>2527123</td>\n",
       "      <td>6.0</td>\n",
       "      <td>35.0</td>\n",
       "      <td>Supreme Court of California is headquartered i...</td>\n",
       "    </tr>\n",
       "  </tbody>\n",
       "</table>\n",
       "</div>"
      ],
      "text/plain": [
       "           Abr. State-hood Rank      Capital Capital Since Area (sq-mi)  \\\n",
       "State                                                                     \n",
       "Alabama      AL            1819   Montgomery          1846        155.4   \n",
       "Alaska       AK            1959       Juneau          1906       2716.7   \n",
       "Arizona      AZ            1912      Phoenix          1889        474.9   \n",
       "Arkansas     AR            1836  Little Rock          1821        116.2   \n",
       "California   CA            1850   Sacramento          1854         97.2   \n",
       "\n",
       "           Municipal Population Metropolitan Population  \\\n",
       "State                                                     \n",
       "Alabama                  205764                  374536   \n",
       "Alaska                    31275                     NaN   \n",
       "Arizona                 1445632                 4192887   \n",
       "Arkansas                 193524                  877091   \n",
       "California               466488                 2527123   \n",
       "\n",
       "            Population Rank In State  Population Rank in US  \\\n",
       "State                                                         \n",
       "Alabama                          2.0                  115.0   \n",
       "Alaska                           3.0                    NaN   \n",
       "Arizona                          1.0                    5.0   \n",
       "Arkansas                         1.0                  117.0   \n",
       "California                       6.0                   35.0   \n",
       "\n",
       "                                                        Notes  \n",
       "State                                                          \n",
       "Alabama               Birmingham is the state's largest city.  \n",
       "Alaska      Largest capital by municipal land area. Anchor...  \n",
       "Arizona     Most populous U.S. state capital and the only ...  \n",
       "Arkansas                                                  NaN  \n",
       "California  Supreme Court of California is headquartered i...  "
      ]
     },
     "execution_count": 8,
     "metadata": {},
     "output_type": "execute_result"
    }
   ],
   "source": [
    "df.set_index('State', inplace=True)\n",
    "df.head()"
   ]
  },
  {
   "cell_type": "code",
   "execution_count": 9,
   "metadata": {
    "slideshow": {
     "slide_type": "subslide"
    }
   },
   "outputs": [
    {
     "data": {
      "text/plain": [
       "Abr.                                                             AL\n",
       "State-hood Rank                                                1819\n",
       "Capital                                                  Montgomery\n",
       "Capital Since                                                  1846\n",
       "Area (sq-mi)                                                  155.4\n",
       "Municipal Population                                         205764\n",
       "Metropolitan Population                                      374536\n",
       "Population Rank In State                                          2\n",
       "Population Rank in US                                           115\n",
       "Notes                       Birmingham is the state's largest city.\n",
       "Name: Alabama, dtype: object"
      ]
     },
     "execution_count": 9,
     "metadata": {},
     "output_type": "execute_result"
    }
   ],
   "source": [
    "df.loc['Alabama']"
   ]
  },
  {
   "cell_type": "markdown",
   "metadata": {
    "slideshow": {
     "slide_type": "slide"
    }
   },
   "source": [
    "## DataFrames as HTML"
   ]
  },
  {
   "cell_type": "markdown",
   "metadata": {
    "slideshow": {
     "slide_type": "subslide"
    }
   },
   "source": [
    "Pandas also had a `to_html` method that we can use to generate HTML tables from DataFrames."
   ]
  },
  {
   "cell_type": "code",
   "execution_count": 10,
   "metadata": {
    "slideshow": {
     "slide_type": "fragment"
    }
   },
   "outputs": [
    {
     "data": {
      "text/plain": [
       "'<table border=\"1\" class=\"dataframe\">\\n  <thead>\\n    <tr style=\"text-align: right;\">\\n      <th></th>\\n      <th>Abr.</th>\\n      <th>State-hood Rank</th>\\n      <th>Capital</th>\\n      <th>Capital Since</th>\\n      <th>Area (sq-mi)</th>\\n      <th>Municipal Population</th>\\n      <th>Metropolitan Population</th>\\n      <th>Population Rank In State</th>\\n      <th>Population Rank in US</th>\\n      <th>Notes</th>\\n    </tr>\\n    <tr>\\n      <th>State</th>\\n      <th></th>\\n      <th></th>\\n      <th></th>\\n      <th></th>\\n      <th></th>\\n      <th></th>\\n      <th></th>\\n      <th></th>\\n      <th></th>\\n      <th></th>\\n    </tr>\\n  </thead>\\n  <tbody>\\n    <tr>\\n      <th>Alabama</th>\\n      <td>AL</td>\\n      <td>1819</td>\\n      <td>Montgomery</td>\\n      <td>1846</td>\\n      <td>155.4</td>\\n      <td>205764</td>\\n      <td>374536</td>\\n      <td>2.0</td>\\n      <td>115.0</td>\\n      <td>Birmingham is the state\\'s largest city.</td>\\n    </tr>\\n    <tr>\\n      <th>Alaska</th>\\n      <td>AK</td>\\n      <td>1959</td>\\n      <td>Juneau</td>\\n      <td>1906</td>\\n      <td>2716.7</td>\\n      <td>31275</td>\\n      <td>NaN</td>\\n      <td>3.0</td>\\n      <td>NaN</td>\\n      <td>Largest capital by municipal land area. Anchor...</td>\\n    </tr>\\n    <tr>\\n      <th>Arizona</th>\\n      <td>AZ</td>\\n      <td>1912</td>\\n      <td>Phoenix</td>\\n      <td>1889</td>\\n      <td>474.9</td>\\n      <td>1445632</td>\\n      <td>4192887</td>\\n      <td>1.0</td>\\n      <td>5.0</td>\\n      <td>Most populous U.S. state capital and the only ...</td>\\n    </tr>\\n    <tr>\\n      <th>Arkansas</th>\\n      <td>AR</td>\\n      <td>1836</td>\\n      <td>Little Rock</td>\\n      <td>1821</td>\\n      <td>116.2</td>\\n      <td>193524</td>\\n      <td>877091</td>\\n      <td>1.0</td>\\n      <td>117.0</td>\\n      <td>NaN</td>\\n    </tr>\\n    <tr>\\n      <th>California</th>\\n      <td>CA</td>\\n      <td>1850</td>\\n      <td>Sacramento</td>\\n      <td>1854</td>\\n      <td>97.2</td>\\n      <td>466488</td>\\n      <td>2527123</td>\\n      <td>6.0</td>\\n      <td>35.0</td>\\n      <td>Supreme Court of California is headquartered i...</td>\\n    </tr>\\n    <tr>\\n      <th>Colorado</th>\\n      <td>CO</td>\\n      <td>1876</td>\\n      <td>Denver</td>\\n      <td>1867</td>\\n      <td>153.4</td>\\n      <td>600158</td>\\n      <td>2552195</td>\\n      <td>1.0</td>\\n      <td>19.0</td>\\n      <td>Denver was called Denver City until 1882.</td>\\n    </tr>\\n    <tr>\\n      <th>Connecticut</th>\\n      <td>CT</td>\\n      <td>1788</td>\\n      <td>Hartford</td>\\n      <td>1875</td>\\n      <td>17.3</td>\\n      <td>124775</td>\\n      <td>1212381</td>\\n      <td>3.0</td>\\n      <td>221.0</td>\\n      <td>Bridgeport is the state\\'s largest city. Hartfo...</td>\\n    </tr>\\n    <tr>\\n      <th>Delaware</th>\\n      <td>DE</td>\\n      <td>1787</td>\\n      <td>Dover</td>\\n      <td>1777</td>\\n      <td>22.4</td>\\n      <td>36047</td>\\n      <td>162310</td>\\n      <td>2.0</td>\\n      <td>NaN</td>\\n      <td>Longest-serving capital in terms of statehood....</td>\\n    </tr>\\n    <tr>\\n      <th>Florida</th>\\n      <td>FL</td>\\n      <td>1845</td>\\n      <td>Tallahassee</td>\\n      <td>1824</td>\\n      <td>95.7</td>\\n      <td>190894</td>\\n      <td>379627</td>\\n      <td>7.0</td>\\n      <td>126.0</td>\\n      <td>Jacksonville is the largest city. Miami is the...</td>\\n    </tr>\\n    <tr>\\n      <th>Georgia</th>\\n      <td>GA</td>\\n      <td>1788</td>\\n      <td>Atlanta</td>\\n      <td>1868</td>\\n      <td>131.7</td>\\n      <td>420003</td>\\n      <td>5789700</td>\\n      <td>1.0</td>\\n      <td>38.0</td>\\n      <td>State capital with the most populous metro are...</td>\\n    </tr>\\n    <tr>\\n      <th>Hawaii</th>\\n      <td>HI</td>\\n      <td>1959</td>\\n      <td>Honolulu</td>\\n      <td>1845</td>\\n      <td>85.7</td>\\n      <td>337256</td>\\n      <td>953207</td>\\n      <td>1.0</td>\\n      <td>55.0</td>\\n      <td>NaN</td>\\n    </tr>\\n    <tr>\\n      <th>Idaho</th>\\n      <td>ID</td>\\n      <td>1890</td>\\n      <td>Boise</td>\\n      <td>1865</td>\\n      <td>63.8</td>\\n      <td>205671</td>\\n      <td>616561</td>\\n      <td>1.0</td>\\n      <td>99.0</td>\\n      <td>NaN</td>\\n    </tr>\\n    <tr>\\n      <th>Illinois</th>\\n      <td>IL</td>\\n      <td>1818</td>\\n      <td>Springfield</td>\\n      <td>1837</td>\\n      <td>54.0</td>\\n      <td>116250</td>\\n      <td>208182</td>\\n      <td>6.0</td>\\n      <td>241.0</td>\\n      <td>Springfield was once home to Abraham Lincoln. ...</td>\\n    </tr>\\n    <tr>\\n      <th>Indiana</th>\\n      <td>IN</td>\\n      <td>1816</td>\\n      <td>Indianapolis</td>\\n      <td>1825</td>\\n      <td>361.5</td>\\n      <td>829718</td>\\n      <td>1756221</td>\\n      <td>1.0</td>\\n      <td>15.0</td>\\n      <td>NaN</td>\\n    </tr>\\n    <tr>\\n      <th>Iowa</th>\\n      <td>IA</td>\\n      <td>1846</td>\\n      <td>Des Moines</td>\\n      <td>1857</td>\\n      <td>75.8</td>\\n      <td>203433</td>\\n      <td>580255</td>\\n      <td>1.0</td>\\n      <td>102.0</td>\\n      <td>NaN</td>\\n    </tr>\\n    <tr>\\n      <th>Kansas</th>\\n      <td>KS</td>\\n      <td>1861</td>\\n      <td>Topeka</td>\\n      <td>1856</td>\\n      <td>56.0</td>\\n      <td>127473</td>\\n      <td>230824</td>\\n      <td>4.0</td>\\n      <td>217.0</td>\\n      <td>Wichita is the state\\'s largest city.</td>\\n    </tr>\\n    <tr>\\n      <th>Kentucky</th>\\n      <td>KY</td>\\n      <td>1792</td>\\n      <td>Frankfort</td>\\n      <td>1792</td>\\n      <td>14.7</td>\\n      <td>25527</td>\\n      <td>70758</td>\\n      <td>14.0</td>\\n      <td>NaN</td>\\n      <td>Louisville is the state\\'s largest city.</td>\\n    </tr>\\n    <tr>\\n      <th>Louisiana</th>\\n      <td>LA</td>\\n      <td>1812</td>\\n      <td>Baton Rouge</td>\\n      <td>1880</td>\\n      <td>76.8</td>\\n      <td>229553</td>\\n      <td>802484</td>\\n      <td>2.0</td>\\n      <td>97.0</td>\\n      <td>New Orleans is the state\\'s largest city and ho...</td>\\n    </tr>\\n    <tr>\\n      <th>Maine</th>\\n      <td>ME</td>\\n      <td>1820</td>\\n      <td>Augusta</td>\\n      <td>1832</td>\\n      <td>55.4</td>\\n      <td>19136</td>\\n      <td>117114</td>\\n      <td>8.0</td>\\n      <td>NaN</td>\\n      <td>Portland is the state\\'s largest city and previ...</td>\\n    </tr>\\n    <tr>\\n      <th>Maryland</th>\\n      <td>MD</td>\\n      <td>1788</td>\\n      <td>Annapolis</td>\\n      <td>1694</td>\\n      <td>6.73</td>\\n      <td>38394</td>\\n      <td>NaN</td>\\n      <td>7.0</td>\\n      <td>NaN</td>\\n      <td>Smallest capital by land area. Baltimore is th...</td>\\n    </tr>\\n    <tr>\\n      <th>Massachusetts</th>\\n      <td>MA</td>\\n      <td>1788</td>\\n      <td>Boston</td>\\n      <td>1630</td>\\n      <td>48.4</td>\\n      <td>617594</td>\\n      <td>4522858</td>\\n      <td>1.0</td>\\n      <td>22.0</td>\\n      <td>Longest continuously serving capital in the U.S.</td>\\n    </tr>\\n    <tr>\\n      <th>Michigan</th>\\n      <td>MI</td>\\n      <td>1837</td>\\n      <td>Lansing</td>\\n      <td>1847</td>\\n      <td>35.0</td>\\n      <td>114297</td>\\n      <td>464036</td>\\n      <td>5.0</td>\\n      <td>239.0</td>\\n      <td>Only state capital that is not also its county...</td>\\n    </tr>\\n    <tr>\\n      <th>Minnesota</th>\\n      <td>MN</td>\\n      <td>1858</td>\\n      <td>Saint Paul</td>\\n      <td>1849</td>\\n      <td>52.8</td>\\n      <td>300851</td>\\n      <td>3502891</td>\\n      <td>2.0</td>\\n      <td>64.0</td>\\n      <td>Capital\\'s twin city, Minneapolis, is the state...</td>\\n    </tr>\\n    <tr>\\n      <th>Mississippi</th>\\n      <td>MS</td>\\n      <td>1817</td>\\n      <td>Jackson</td>\\n      <td>1821</td>\\n      <td>104.9</td>\\n      <td>173514</td>\\n      <td>539057</td>\\n      <td>1.0</td>\\n      <td>149.0</td>\\n      <td>Only state capital that shares its status as c...</td>\\n    </tr>\\n    <tr>\\n      <th>Missouri</th>\\n      <td>MO</td>\\n      <td>1821</td>\\n      <td>Jefferson City</td>\\n      <td>1826</td>\\n      <td>27.3</td>\\n      <td>43079</td>\\n      <td>149807</td>\\n      <td>15.0</td>\\n      <td>NaN</td>\\n      <td>Kansas City is the state\\'s largest city, and G...</td>\\n    </tr>\\n    <tr>\\n      <th>Montana</th>\\n      <td>MT</td>\\n      <td>1889</td>\\n      <td>Helena</td>\\n      <td>1875</td>\\n      <td>14.0</td>\\n      <td>28190</td>\\n      <td>74801</td>\\n      <td>6.0</td>\\n      <td>NaN</td>\\n      <td>Billings is the state\\'s largest city.</td>\\n    </tr>\\n    <tr>\\n      <th>Nebraska</th>\\n      <td>NE</td>\\n      <td>1867</td>\\n      <td>Lincoln</td>\\n      <td>1867</td>\\n      <td>74.6</td>\\n      <td>258379</td>\\n      <td>302157</td>\\n      <td>2.0</td>\\n      <td>71.0</td>\\n      <td>Omaha is the state\\'s largest city. It shares t...</td>\\n    </tr>\\n    <tr>\\n      <th>Nevada</th>\\n      <td>NV</td>\\n      <td>1864</td>\\n      <td>Carson City</td>\\n      <td>1861</td>\\n      <td>143.4</td>\\n      <td>55274</td>\\n      <td>NaN</td>\\n      <td>6.0</td>\\n      <td>NaN</td>\\n      <td>One of two independent cities that serves as a...</td>\\n    </tr>\\n    <tr>\\n      <th>New Hampshire</th>\\n      <td>NH</td>\\n      <td>1788</td>\\n      <td>Concord</td>\\n      <td>1808</td>\\n      <td>64.3</td>\\n      <td>42695</td>\\n      <td>NaN</td>\\n      <td>3.0</td>\\n      <td>NaN</td>\\n      <td>Manchester is the state\\'s largest city.</td>\\n    </tr>\\n    <tr>\\n      <th>New Jersey</th>\\n      <td>NJ</td>\\n      <td>1787</td>\\n      <td>Trenton</td>\\n      <td>1784</td>\\n      <td>7.66</td>\\n      <td>84913</td>\\n      <td>366513</td>\\n      <td>10.0</td>\\n      <td>NaN</td>\\n      <td>Served as the U.S. capital for a short period ...</td>\\n    </tr>\\n    <tr>\\n      <th>New Mexico</th>\\n      <td>NM</td>\\n      <td>1912</td>\\n      <td>Santa Fe</td>\\n      <td>1610</td>\\n      <td>37.3</td>\\n      <td>75764</td>\\n      <td>183732</td>\\n      <td>4.0</td>\\n      <td>NaN</td>\\n      <td>Longest serving capital in the United States. ...</td>\\n    </tr>\\n    <tr>\\n      <th>New York</th>\\n      <td>NY</td>\\n      <td>1788</td>\\n      <td>Albany</td>\\n      <td>1797</td>\\n      <td>21.4</td>\\n      <td>97856</td>\\n      <td>857592</td>\\n      <td>6.0</td>\\n      <td>NaN</td>\\n      <td>New York City is the state\\'s largest city.</td>\\n    </tr>\\n    <tr>\\n      <th>North Carolina</th>\\n      <td>NC</td>\\n      <td>1789</td>\\n      <td>Raleigh</td>\\n      <td>1792</td>\\n      <td>114.6</td>\\n      <td>403892</td>\\n      <td>1130490</td>\\n      <td>2.0</td>\\n      <td>41.0</td>\\n      <td>Charlotte is the state\\'s largest city.</td>\\n    </tr>\\n    <tr>\\n      <th>North Dakota</th>\\n      <td>ND</td>\\n      <td>1889</td>\\n      <td>Bismarck</td>\\n      <td>1883</td>\\n      <td>26.9</td>\\n      <td>61272</td>\\n      <td>108779</td>\\n      <td>2.0</td>\\n      <td>NaN</td>\\n      <td>Fargo is the state\\'s largest city.</td>\\n    </tr>\\n    <tr>\\n      <th>Ohio</th>\\n      <td>OH</td>\\n      <td>1803</td>\\n      <td>Columbus</td>\\n      <td>1816</td>\\n      <td>210.3</td>\\n      <td>822553</td>\\n      <td>1967066</td>\\n      <td>1.0</td>\\n      <td>14.0</td>\\n      <td>Third-largest state capital; however, the Cinc...</td>\\n    </tr>\\n    <tr>\\n      <th>Oklahoma</th>\\n      <td>OK</td>\\n      <td>1907</td>\\n      <td>Oklahoma City</td>\\n      <td>1910</td>\\n      <td>607.0</td>\\n      <td>580000</td>\\n      <td>1252987</td>\\n      <td>1.0</td>\\n      <td>27.0</td>\\n      <td>Shortest serving current state capital.</td>\\n    </tr>\\n    <tr>\\n      <th>Oregon</th>\\n      <td>OR</td>\\n      <td>1859</td>\\n      <td>Salem</td>\\n      <td>1855</td>\\n      <td>45.7</td>\\n      <td>154637</td>\\n      <td>390738</td>\\n      <td>3.0</td>\\n      <td>151.0</td>\\n      <td>Portland is the state\\'s largest city.</td>\\n    </tr>\\n    <tr>\\n      <th>Pennsylvania</th>\\n      <td>PA</td>\\n      <td>1787</td>\\n      <td>Harrisburg</td>\\n      <td>1812</td>\\n      <td>8.11</td>\\n      <td>49528</td>\\n      <td>647390</td>\\n      <td>9.0</td>\\n      <td>NaN</td>\\n      <td>Philadelphia is the state\\'s largest city.</td>\\n    </tr>\\n    <tr>\\n      <th>Rhode Island</th>\\n      <td>RI</td>\\n      <td>1790</td>\\n      <td>Providence</td>\\n      <td>1900</td>\\n      <td>18.5</td>\\n      <td>178042</td>\\n      <td>1630956</td>\\n      <td>1.0</td>\\n      <td>137.0</td>\\n      <td>Also served as the state\\'s capital from 1636–1...</td>\\n    </tr>\\n    <tr>\\n      <th>South Carolina</th>\\n      <td>SC</td>\\n      <td>1788</td>\\n      <td>Columbia</td>\\n      <td>1786</td>\\n      <td>125.2</td>\\n      <td>131686</td>\\n      <td>913797</td>\\n      <td>2.0</td>\\n      <td>199.0</td>\\n      <td>Charleston is the state\\'s largest city, while ...</td>\\n    </tr>\\n    <tr>\\n      <th>South Dakota</th>\\n      <td>SD</td>\\n      <td>1889</td>\\n      <td>Pierre</td>\\n      <td>1889</td>\\n      <td>13.0</td>\\n      <td>13646</td>\\n      <td>NaN</td>\\n      <td>8.0</td>\\n      <td>NaN</td>\\n      <td>Sioux Falls is the state\\'s largest city.</td>\\n    </tr>\\n    <tr>\\n      <th>Tennessee</th>\\n      <td>TN</td>\\n      <td>1796</td>\\n      <td>Nashville</td>\\n      <td>1826</td>\\n      <td>473.3</td>\\n      <td>635710</td>\\n      <td>1582264</td>\\n      <td>1.0</td>\\n      <td>24.0</td>\\n      <td>NaN</td>\\n    </tr>\\n    <tr>\\n      <th>Texas</th>\\n      <td>TX</td>\\n      <td>1845</td>\\n      <td>Austin</td>\\n      <td>1839</td>\\n      <td>251.5</td>\\n      <td>790390</td>\\n      <td>1716291</td>\\n      <td>4.0</td>\\n      <td>11.0</td>\\n      <td>Houston is the state\\'s largest city and the pr...</td>\\n    </tr>\\n    <tr>\\n      <th>Utah</th>\\n      <td>UT</td>\\n      <td>1896</td>\\n      <td>Salt Lake City</td>\\n      <td>1858</td>\\n      <td>109.1</td>\\n      <td>186440</td>\\n      <td>1124197</td>\\n      <td>1.0</td>\\n      <td>123.0</td>\\n      <td>NaN</td>\\n    </tr>\\n    <tr>\\n      <th>Vermont</th>\\n      <td>VT</td>\\n      <td>1791</td>\\n      <td>Montpelier</td>\\n      <td>1805</td>\\n      <td>10.2</td>\\n      <td>7855</td>\\n      <td>NaN</td>\\n      <td>6.0</td>\\n      <td>NaN</td>\\n      <td>Least populous U.S. state capital. Burlington ...</td>\\n    </tr>\\n    <tr>\\n      <th>Virginia</th>\\n      <td>VA</td>\\n      <td>1788</td>\\n      <td>Richmond</td>\\n      <td>1780</td>\\n      <td>60.1</td>\\n      <td>204214</td>\\n      <td>1231675</td>\\n      <td>4.0</td>\\n      <td>98.0</td>\\n      <td>Virginia Beach and Norfolk are the state\\'s lar...</td>\\n    </tr>\\n    <tr>\\n      <th>Washington</th>\\n      <td>WA</td>\\n      <td>1889</td>\\n      <td>Olympia</td>\\n      <td>1853</td>\\n      <td>16.7</td>\\n      <td>46478</td>\\n      <td>234670</td>\\n      <td>24.0</td>\\n      <td>NaN</td>\\n      <td>Seattle is the state\\'s largest city.</td>\\n    </tr>\\n    <tr>\\n      <th>West Virginia</th>\\n      <td>WV</td>\\n      <td>1863</td>\\n      <td>Charleston</td>\\n      <td>1885</td>\\n      <td>31.6</td>\\n      <td>51400</td>\\n      <td>304214</td>\\n      <td>1.0</td>\\n      <td>NaN</td>\\n      <td>Charleston is the smallest capital city that i...</td>\\n    </tr>\\n    <tr>\\n      <th>Wisconsin</th>\\n      <td>WI</td>\\n      <td>1848</td>\\n      <td>Madison</td>\\n      <td>1838</td>\\n      <td>68.7</td>\\n      <td>233209</td>\\n      <td>561505</td>\\n      <td>2.0</td>\\n      <td>82.0</td>\\n      <td>Milwaukee is the state\\'s largest city.</td>\\n    </tr>\\n    <tr>\\n      <th>Wyoming</th>\\n      <td>WY</td>\\n      <td>1890</td>\\n      <td>Cheyenne</td>\\n      <td>1869</td>\\n      <td>21.1</td>\\n      <td>59466</td>\\n      <td>91738</td>\\n      <td>1.0</td>\\n      <td>NaN</td>\\n      <td>NaN</td>\\n    </tr>\\n  </tbody>\\n</table>'"
      ]
     },
     "execution_count": 10,
     "metadata": {},
     "output_type": "execute_result"
    }
   ],
   "source": [
    "html_table = df.to_html()\n",
    "html_table"
   ]
  },
  {
   "cell_type": "markdown",
   "metadata": {
    "slideshow": {
     "slide_type": "subslide"
    }
   },
   "source": [
    "You may have to strip unwanted newlines to clean up the table."
   ]
  },
  {
   "cell_type": "code",
   "execution_count": 11,
   "metadata": {
    "slideshow": {
     "slide_type": "fragment"
    }
   },
   "outputs": [
    {
     "data": {
      "text/plain": [
       "'<table border=\"1\" class=\"dataframe\">  <thead>    <tr style=\"text-align: right;\">      <th></th>      <th>Abr.</th>      <th>State-hood Rank</th>      <th>Capital</th>      <th>Capital Since</th>      <th>Area (sq-mi)</th>      <th>Municipal Population</th>      <th>Metropolitan Population</th>      <th>Population Rank In State</th>      <th>Population Rank in US</th>      <th>Notes</th>    </tr>    <tr>      <th>State</th>      <th></th>      <th></th>      <th></th>      <th></th>      <th></th>      <th></th>      <th></th>      <th></th>      <th></th>      <th></th>    </tr>  </thead>  <tbody>    <tr>      <th>Alabama</th>      <td>AL</td>      <td>1819</td>      <td>Montgomery</td>      <td>1846</td>      <td>155.4</td>      <td>205764</td>      <td>374536</td>      <td>2.0</td>      <td>115.0</td>      <td>Birmingham is the state\\'s largest city.</td>    </tr>    <tr>      <th>Alaska</th>      <td>AK</td>      <td>1959</td>      <td>Juneau</td>      <td>1906</td>      <td>2716.7</td>      <td>31275</td>      <td>NaN</td>      <td>3.0</td>      <td>NaN</td>      <td>Largest capital by municipal land area. Anchor...</td>    </tr>    <tr>      <th>Arizona</th>      <td>AZ</td>      <td>1912</td>      <td>Phoenix</td>      <td>1889</td>      <td>474.9</td>      <td>1445632</td>      <td>4192887</td>      <td>1.0</td>      <td>5.0</td>      <td>Most populous U.S. state capital and the only ...</td>    </tr>    <tr>      <th>Arkansas</th>      <td>AR</td>      <td>1836</td>      <td>Little Rock</td>      <td>1821</td>      <td>116.2</td>      <td>193524</td>      <td>877091</td>      <td>1.0</td>      <td>117.0</td>      <td>NaN</td>    </tr>    <tr>      <th>California</th>      <td>CA</td>      <td>1850</td>      <td>Sacramento</td>      <td>1854</td>      <td>97.2</td>      <td>466488</td>      <td>2527123</td>      <td>6.0</td>      <td>35.0</td>      <td>Supreme Court of California is headquartered i...</td>    </tr>    <tr>      <th>Colorado</th>      <td>CO</td>      <td>1876</td>      <td>Denver</td>      <td>1867</td>      <td>153.4</td>      <td>600158</td>      <td>2552195</td>      <td>1.0</td>      <td>19.0</td>      <td>Denver was called Denver City until 1882.</td>    </tr>    <tr>      <th>Connecticut</th>      <td>CT</td>      <td>1788</td>      <td>Hartford</td>      <td>1875</td>      <td>17.3</td>      <td>124775</td>      <td>1212381</td>      <td>3.0</td>      <td>221.0</td>      <td>Bridgeport is the state\\'s largest city. Hartfo...</td>    </tr>    <tr>      <th>Delaware</th>      <td>DE</td>      <td>1787</td>      <td>Dover</td>      <td>1777</td>      <td>22.4</td>      <td>36047</td>      <td>162310</td>      <td>2.0</td>      <td>NaN</td>      <td>Longest-serving capital in terms of statehood....</td>    </tr>    <tr>      <th>Florida</th>      <td>FL</td>      <td>1845</td>      <td>Tallahassee</td>      <td>1824</td>      <td>95.7</td>      <td>190894</td>      <td>379627</td>      <td>7.0</td>      <td>126.0</td>      <td>Jacksonville is the largest city. Miami is the...</td>    </tr>    <tr>      <th>Georgia</th>      <td>GA</td>      <td>1788</td>      <td>Atlanta</td>      <td>1868</td>      <td>131.7</td>      <td>420003</td>      <td>5789700</td>      <td>1.0</td>      <td>38.0</td>      <td>State capital with the most populous metro are...</td>    </tr>    <tr>      <th>Hawaii</th>      <td>HI</td>      <td>1959</td>      <td>Honolulu</td>      <td>1845</td>      <td>85.7</td>      <td>337256</td>      <td>953207</td>      <td>1.0</td>      <td>55.0</td>      <td>NaN</td>    </tr>    <tr>      <th>Idaho</th>      <td>ID</td>      <td>1890</td>      <td>Boise</td>      <td>1865</td>      <td>63.8</td>      <td>205671</td>      <td>616561</td>      <td>1.0</td>      <td>99.0</td>      <td>NaN</td>    </tr>    <tr>      <th>Illinois</th>      <td>IL</td>      <td>1818</td>      <td>Springfield</td>      <td>1837</td>      <td>54.0</td>      <td>116250</td>      <td>208182</td>      <td>6.0</td>      <td>241.0</td>      <td>Springfield was once home to Abraham Lincoln. ...</td>    </tr>    <tr>      <th>Indiana</th>      <td>IN</td>      <td>1816</td>      <td>Indianapolis</td>      <td>1825</td>      <td>361.5</td>      <td>829718</td>      <td>1756221</td>      <td>1.0</td>      <td>15.0</td>      <td>NaN</td>    </tr>    <tr>      <th>Iowa</th>      <td>IA</td>      <td>1846</td>      <td>Des Moines</td>      <td>1857</td>      <td>75.8</td>      <td>203433</td>      <td>580255</td>      <td>1.0</td>      <td>102.0</td>      <td>NaN</td>    </tr>    <tr>      <th>Kansas</th>      <td>KS</td>      <td>1861</td>      <td>Topeka</td>      <td>1856</td>      <td>56.0</td>      <td>127473</td>      <td>230824</td>      <td>4.0</td>      <td>217.0</td>      <td>Wichita is the state\\'s largest city.</td>    </tr>    <tr>      <th>Kentucky</th>      <td>KY</td>      <td>1792</td>      <td>Frankfort</td>      <td>1792</td>      <td>14.7</td>      <td>25527</td>      <td>70758</td>      <td>14.0</td>      <td>NaN</td>      <td>Louisville is the state\\'s largest city.</td>    </tr>    <tr>      <th>Louisiana</th>      <td>LA</td>      <td>1812</td>      <td>Baton Rouge</td>      <td>1880</td>      <td>76.8</td>      <td>229553</td>      <td>802484</td>      <td>2.0</td>      <td>97.0</td>      <td>New Orleans is the state\\'s largest city and ho...</td>    </tr>    <tr>      <th>Maine</th>      <td>ME</td>      <td>1820</td>      <td>Augusta</td>      <td>1832</td>      <td>55.4</td>      <td>19136</td>      <td>117114</td>      <td>8.0</td>      <td>NaN</td>      <td>Portland is the state\\'s largest city and previ...</td>    </tr>    <tr>      <th>Maryland</th>      <td>MD</td>      <td>1788</td>      <td>Annapolis</td>      <td>1694</td>      <td>6.73</td>      <td>38394</td>      <td>NaN</td>      <td>7.0</td>      <td>NaN</td>      <td>Smallest capital by land area. Baltimore is th...</td>    </tr>    <tr>      <th>Massachusetts</th>      <td>MA</td>      <td>1788</td>      <td>Boston</td>      <td>1630</td>      <td>48.4</td>      <td>617594</td>      <td>4522858</td>      <td>1.0</td>      <td>22.0</td>      <td>Longest continuously serving capital in the U.S.</td>    </tr>    <tr>      <th>Michigan</th>      <td>MI</td>      <td>1837</td>      <td>Lansing</td>      <td>1847</td>      <td>35.0</td>      <td>114297</td>      <td>464036</td>      <td>5.0</td>      <td>239.0</td>      <td>Only state capital that is not also its county...</td>    </tr>    <tr>      <th>Minnesota</th>      <td>MN</td>      <td>1858</td>      <td>Saint Paul</td>      <td>1849</td>      <td>52.8</td>      <td>300851</td>      <td>3502891</td>      <td>2.0</td>      <td>64.0</td>      <td>Capital\\'s twin city, Minneapolis, is the state...</td>    </tr>    <tr>      <th>Mississippi</th>      <td>MS</td>      <td>1817</td>      <td>Jackson</td>      <td>1821</td>      <td>104.9</td>      <td>173514</td>      <td>539057</td>      <td>1.0</td>      <td>149.0</td>      <td>Only state capital that shares its status as c...</td>    </tr>    <tr>      <th>Missouri</th>      <td>MO</td>      <td>1821</td>      <td>Jefferson City</td>      <td>1826</td>      <td>27.3</td>      <td>43079</td>      <td>149807</td>      <td>15.0</td>      <td>NaN</td>      <td>Kansas City is the state\\'s largest city, and G...</td>    </tr>    <tr>      <th>Montana</th>      <td>MT</td>      <td>1889</td>      <td>Helena</td>      <td>1875</td>      <td>14.0</td>      <td>28190</td>      <td>74801</td>      <td>6.0</td>      <td>NaN</td>      <td>Billings is the state\\'s largest city.</td>    </tr>    <tr>      <th>Nebraska</th>      <td>NE</td>      <td>1867</td>      <td>Lincoln</td>      <td>1867</td>      <td>74.6</td>      <td>258379</td>      <td>302157</td>      <td>2.0</td>      <td>71.0</td>      <td>Omaha is the state\\'s largest city. It shares t...</td>    </tr>    <tr>      <th>Nevada</th>      <td>NV</td>      <td>1864</td>      <td>Carson City</td>      <td>1861</td>      <td>143.4</td>      <td>55274</td>      <td>NaN</td>      <td>6.0</td>      <td>NaN</td>      <td>One of two independent cities that serves as a...</td>    </tr>    <tr>      <th>New Hampshire</th>      <td>NH</td>      <td>1788</td>      <td>Concord</td>      <td>1808</td>      <td>64.3</td>      <td>42695</td>      <td>NaN</td>      <td>3.0</td>      <td>NaN</td>      <td>Manchester is the state\\'s largest city.</td>    </tr>    <tr>      <th>New Jersey</th>      <td>NJ</td>      <td>1787</td>      <td>Trenton</td>      <td>1784</td>      <td>7.66</td>      <td>84913</td>      <td>366513</td>      <td>10.0</td>      <td>NaN</td>      <td>Served as the U.S. capital for a short period ...</td>    </tr>    <tr>      <th>New Mexico</th>      <td>NM</td>      <td>1912</td>      <td>Santa Fe</td>      <td>1610</td>      <td>37.3</td>      <td>75764</td>      <td>183732</td>      <td>4.0</td>      <td>NaN</td>      <td>Longest serving capital in the United States. ...</td>    </tr>    <tr>      <th>New York</th>      <td>NY</td>      <td>1788</td>      <td>Albany</td>      <td>1797</td>      <td>21.4</td>      <td>97856</td>      <td>857592</td>      <td>6.0</td>      <td>NaN</td>      <td>New York City is the state\\'s largest city.</td>    </tr>    <tr>      <th>North Carolina</th>      <td>NC</td>      <td>1789</td>      <td>Raleigh</td>      <td>1792</td>      <td>114.6</td>      <td>403892</td>      <td>1130490</td>      <td>2.0</td>      <td>41.0</td>      <td>Charlotte is the state\\'s largest city.</td>    </tr>    <tr>      <th>North Dakota</th>      <td>ND</td>      <td>1889</td>      <td>Bismarck</td>      <td>1883</td>      <td>26.9</td>      <td>61272</td>      <td>108779</td>      <td>2.0</td>      <td>NaN</td>      <td>Fargo is the state\\'s largest city.</td>    </tr>    <tr>      <th>Ohio</th>      <td>OH</td>      <td>1803</td>      <td>Columbus</td>      <td>1816</td>      <td>210.3</td>      <td>822553</td>      <td>1967066</td>      <td>1.0</td>      <td>14.0</td>      <td>Third-largest state capital; however, the Cinc...</td>    </tr>    <tr>      <th>Oklahoma</th>      <td>OK</td>      <td>1907</td>      <td>Oklahoma City</td>      <td>1910</td>      <td>607.0</td>      <td>580000</td>      <td>1252987</td>      <td>1.0</td>      <td>27.0</td>      <td>Shortest serving current state capital.</td>    </tr>    <tr>      <th>Oregon</th>      <td>OR</td>      <td>1859</td>      <td>Salem</td>      <td>1855</td>      <td>45.7</td>      <td>154637</td>      <td>390738</td>      <td>3.0</td>      <td>151.0</td>      <td>Portland is the state\\'s largest city.</td>    </tr>    <tr>      <th>Pennsylvania</th>      <td>PA</td>      <td>1787</td>      <td>Harrisburg</td>      <td>1812</td>      <td>8.11</td>      <td>49528</td>      <td>647390</td>      <td>9.0</td>      <td>NaN</td>      <td>Philadelphia is the state\\'s largest city.</td>    </tr>    <tr>      <th>Rhode Island</th>      <td>RI</td>      <td>1790</td>      <td>Providence</td>      <td>1900</td>      <td>18.5</td>      <td>178042</td>      <td>1630956</td>      <td>1.0</td>      <td>137.0</td>      <td>Also served as the state\\'s capital from 1636–1...</td>    </tr>    <tr>      <th>South Carolina</th>      <td>SC</td>      <td>1788</td>      <td>Columbia</td>      <td>1786</td>      <td>125.2</td>      <td>131686</td>      <td>913797</td>      <td>2.0</td>      <td>199.0</td>      <td>Charleston is the state\\'s largest city, while ...</td>    </tr>    <tr>      <th>South Dakota</th>      <td>SD</td>      <td>1889</td>      <td>Pierre</td>      <td>1889</td>      <td>13.0</td>      <td>13646</td>      <td>NaN</td>      <td>8.0</td>      <td>NaN</td>      <td>Sioux Falls is the state\\'s largest city.</td>    </tr>    <tr>      <th>Tennessee</th>      <td>TN</td>      <td>1796</td>      <td>Nashville</td>      <td>1826</td>      <td>473.3</td>      <td>635710</td>      <td>1582264</td>      <td>1.0</td>      <td>24.0</td>      <td>NaN</td>    </tr>    <tr>      <th>Texas</th>      <td>TX</td>      <td>1845</td>      <td>Austin</td>      <td>1839</td>      <td>251.5</td>      <td>790390</td>      <td>1716291</td>      <td>4.0</td>      <td>11.0</td>      <td>Houston is the state\\'s largest city and the pr...</td>    </tr>    <tr>      <th>Utah</th>      <td>UT</td>      <td>1896</td>      <td>Salt Lake City</td>      <td>1858</td>      <td>109.1</td>      <td>186440</td>      <td>1124197</td>      <td>1.0</td>      <td>123.0</td>      <td>NaN</td>    </tr>    <tr>      <th>Vermont</th>      <td>VT</td>      <td>1791</td>      <td>Montpelier</td>      <td>1805</td>      <td>10.2</td>      <td>7855</td>      <td>NaN</td>      <td>6.0</td>      <td>NaN</td>      <td>Least populous U.S. state capital. Burlington ...</td>    </tr>    <tr>      <th>Virginia</th>      <td>VA</td>      <td>1788</td>      <td>Richmond</td>      <td>1780</td>      <td>60.1</td>      <td>204214</td>      <td>1231675</td>      <td>4.0</td>      <td>98.0</td>      <td>Virginia Beach and Norfolk are the state\\'s lar...</td>    </tr>    <tr>      <th>Washington</th>      <td>WA</td>      <td>1889</td>      <td>Olympia</td>      <td>1853</td>      <td>16.7</td>      <td>46478</td>      <td>234670</td>      <td>24.0</td>      <td>NaN</td>      <td>Seattle is the state\\'s largest city.</td>    </tr>    <tr>      <th>West Virginia</th>      <td>WV</td>      <td>1863</td>      <td>Charleston</td>      <td>1885</td>      <td>31.6</td>      <td>51400</td>      <td>304214</td>      <td>1.0</td>      <td>NaN</td>      <td>Charleston is the smallest capital city that i...</td>    </tr>    <tr>      <th>Wisconsin</th>      <td>WI</td>      <td>1848</td>      <td>Madison</td>      <td>1838</td>      <td>68.7</td>      <td>233209</td>      <td>561505</td>      <td>2.0</td>      <td>82.0</td>      <td>Milwaukee is the state\\'s largest city.</td>    </tr>    <tr>      <th>Wyoming</th>      <td>WY</td>      <td>1890</td>      <td>Cheyenne</td>      <td>1869</td>      <td>21.1</td>      <td>59466</td>      <td>91738</td>      <td>1.0</td>      <td>NaN</td>      <td>NaN</td>    </tr>  </tbody></table>'"
      ]
     },
     "execution_count": 11,
     "metadata": {},
     "output_type": "execute_result"
    }
   ],
   "source": [
    "html_table.replace('\\n', '')"
   ]
  },
  {
   "cell_type": "markdown",
   "metadata": {
    "slideshow": {
     "slide_type": "subslide"
    }
   },
   "source": [
    "You can also save the table directly to a file."
   ]
  },
  {
   "cell_type": "code",
   "execution_count": 12,
   "metadata": {
    "collapsed": true,
    "slideshow": {
     "slide_type": "fragment"
    }
   },
   "outputs": [],
   "source": [
    "df.to_html('table.html')"
   ]
  },
  {
   "cell_type": "code",
   "execution_count": 13,
   "metadata": {
    "slideshow": {
     "slide_type": "fragment"
    }
   },
   "outputs": [
    {
     "name": "stderr",
     "output_type": "stream",
     "text": [
      "'open' is not recognized as an internal or external command,\n",
      "operable program or batch file.\n"
     ]
    }
   ],
   "source": [
    "# OSX Users can run this to open the file in a browser, \n",
    "# or you can manually find the file and open it in the browser\n",
    "!open table.html"
   ]
  },
  {
   "cell_type": "code",
   "execution_count": null,
   "metadata": {
    "collapsed": true
   },
   "outputs": [],
   "source": []
  }
 ],
 "metadata": {
  "kernelspec": {
   "display_name": "Python 3",
   "language": "python",
   "name": "python3"
  },
  "language_info": {
   "codemirror_mode": {
    "name": "ipython",
    "version": 3
   },
   "file_extension": ".py",
   "mimetype": "text/x-python",
   "name": "python",
   "nbconvert_exporter": "python",
   "pygments_lexer": "ipython3",
   "version": "3.6.3"
  }
 },
 "nbformat": 4,
 "nbformat_minor": 2
}
